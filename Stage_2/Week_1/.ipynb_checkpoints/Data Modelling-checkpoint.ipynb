{
 "cells": [
  {
   "cell_type": "markdown",
   "id": "2a353a0a",
   "metadata": {},
   "source": [
    "# Installing required libraries\n"
   ]
  },
  {
   "cell_type": "code",
   "execution_count": 2,
   "id": "1ebc570f",
   "metadata": {},
   "outputs": [
    {
     "name": "stdout",
     "output_type": "stream",
     "text": [
      "Collecting psycopg2\n",
      "  Downloading psycopg2-2.9.5-cp39-cp39-win_amd64.whl (1.2 MB)\n",
      "     ---------------------------------------- 1.2/1.2 MB 5.0 MB/s eta 0:00:00\n",
      "Installing collected packages: psycopg2\n",
      "Successfully installed psycopg2-2.9.5\n"
     ]
    },
    {
     "name": "stderr",
     "output_type": "stream",
     "text": [
      "\n",
      "[notice] A new release of pip available: 22.2.2 -> 23.0.1\n",
      "[notice] To update, run: python.exe -m pip install --upgrade pip\n"
     ]
    }
   ],
   "source": [
    "!pip install psycopg2"
   ]
  },
  {
   "cell_type": "markdown",
   "id": "8694c788",
   "metadata": {},
   "source": [
    "# Importing Libraries\n",
    "### \"Psycopg2\" can used for connecting to database and performing tasks such as running queries and inserting data"
   ]
  },
  {
   "cell_type": "code",
   "execution_count": 3,
   "id": "5f5a6d37",
   "metadata": {},
   "outputs": [],
   "source": [
    "import psycopg2"
   ]
  },
  {
   "cell_type": "markdown",
   "id": "192f223b",
   "metadata": {},
   "source": [
    "# Create a connection to the database"
   ]
  },
  {
   "cell_type": "code",
   "execution_count": 5,
   "id": "37a5716b",
   "metadata": {},
   "outputs": [],
   "source": [
    "try:\n",
    "    conn = psycopg2.connect(\"host=localhost dbname=postgres user=postgres password=1997\")\n",
    "except psycopg2.Error as e:\n",
    "    print(\"Error: cannot make connection to postgres database\")\n",
    "    print(e)"
   ]
  },
  {
   "cell_type": "markdown",
   "id": "650e7f43",
   "metadata": {},
   "source": [
    "# Cursor to be used after connection to execute queries"
   ]
  },
  {
   "cell_type": "code",
   "execution_count": 6,
   "id": "3123e61c",
   "metadata": {},
   "outputs": [],
   "source": [
    "try:\n",
    "    cur = conn.cursor()\n",
    "except psycopg2.Error as e:\n",
    "    print(\"Error : Cannot get cursorto Database\")\n",
    "    print(e)\n",
    "    "
   ]
  },
  {
   "cell_type": "markdown",
   "id": "c76be6ed",
   "metadata": {},
   "source": [
    "# Set automatic commit to be true so that each action is commit conn.commit() after each command"
   ]
  },
  {
   "cell_type": "code",
   "execution_count": 8,
   "id": "d2290b35",
   "metadata": {},
   "outputs": [],
   "source": [
    "conn.set_session(autocommit = True)"
   ]
  },
  {
   "cell_type": "markdown",
   "id": "8ad35144",
   "metadata": {},
   "source": [
    "# Create a Database "
   ]
  },
  {
   "cell_type": "code",
   "execution_count": 9,
   "id": "3d6aa880",
   "metadata": {},
   "outputs": [],
   "source": [
    "try:\n",
    "    cur.execute(\"create database myfirstdb\")\n",
    "except psycopg2.Error as e:\n",
    "    print(e)"
   ]
  },
  {
   "cell_type": "markdown",
   "id": "4cb84eab",
   "metadata": {},
   "source": [
    "# Add Database name in the connection statement.let's close our connection to the default database,reconnect to the other database and get a new cursor"
   ]
  },
  {
   "cell_type": "code",
   "execution_count": 10,
   "id": "867a1e6d",
   "metadata": {},
   "outputs": [],
   "source": [
    "try:\n",
    "    conn.close()\n",
    "except psycopg2.Error as e:\n",
    "    print(e)\n",
    "    \n",
    "try:\n",
    "    conn = psycopg2.connect(\"host=localhost dbname=myfirstdb user=postgres password=1997\")\n",
    "except psycopg2.Error as e:\n",
    "    print(\"Error: cannot make connection to postgres database\")\n",
    "    print(e)\n",
    "    \n",
    "try:\n",
    "    cur = conn.cursor()\n",
    "except psycopg2.Error as e:\n",
    "    print(\"Error : Cannot get cursorto Database\")\n",
    "    print(e)\n",
    "\n",
    "conn.set_session(autocommit=True)"
   ]
  },
  {
   "cell_type": "markdown",
   "id": "5149d123",
   "metadata": {},
   "source": [
    "# Creating Table "
   ]
  },
  {
   "cell_type": "code",
   "execution_count": 11,
   "id": "f4f7d8a4",
   "metadata": {},
   "outputs": [],
   "source": [
    "try:\n",
    "    cur.execute(\"CREATE TABLE IF NOT EXISTS students (student_id int,name varchar,\\\n",
    "    age int,gender varchar,subject varchar,marks int);\")\n",
    "except psycopg2.Error as e:\n",
    "    print(\"Error: Issue creating table\")\n",
    "    print(e)"
   ]
  },
  {
   "cell_type": "markdown",
   "id": "76810803",
   "metadata": {},
   "source": [
    "# Inserting rows inside the table"
   ]
  },
  {
   "cell_type": "code",
   "execution_count": 12,
   "id": "7a34d6fd",
   "metadata": {},
   "outputs": [],
   "source": [
    "try:\n",
    "    cur.execute(\"INSERT INTO students (student_id, name, age, gender, subject, marks) \\\n",
    "    VALUES (%s, %s, %s, %s, %s, %s)\", \\\n",
    "    (1, \"Raj\", 23, \"Male\", \"Python\", 85))\n",
    "except psycopg2.Error as e:\n",
    "    print(\"ERROR: Inserting Rows\")\n",
    "    print(e)\n",
    "\n",
    "try:\n",
    "    cur.execute(\"INSERT INTO students (student_id, name, age, gender, subject, marks) \\\n",
    "    VALUES (%s, %s, %s, %s, %s, %s)\", \\\n",
    "    (2, \"Priya\", 22, \"Female\", \"Python\", 86 ))\n",
    "except psycopg2.Error as e:\n",
    "    print(\"ERROR: Inserting Rows\")\n",
    "    print(e)"
   ]
  },
  {
   "cell_type": "markdown",
   "id": "866f4fa0",
   "metadata": {},
   "source": [
    "# Validating data was inserted into table"
   ]
  },
  {
   "cell_type": "code",
   "execution_count": 13,
   "id": "dd064103",
   "metadata": {},
   "outputs": [
    {
     "name": "stdout",
     "output_type": "stream",
     "text": [
      "(1, 'Raj', 23, 'Male', 'Python', 85)\n",
      "(2, 'Priya', 22, 'Female', 'Python', 86)\n"
     ]
    }
   ],
   "source": [
    "try:\n",
    "    cur.execute(\"SELECT * FROM students;\")\n",
    "except psycopg2.Error as e:\n",
    "    print(\"ERROR: select *\")\n",
    "    print(e)\n",
    "row = cur.fetchone()\n",
    "while row:\n",
    "    print(row)\n",
    "    row = cur.fetchone()"
   ]
  },
  {
   "cell_type": "markdown",
   "id": "a28d65a9",
   "metadata": {},
   "source": [
    "# Close connection and cursor"
   ]
  },
  {
   "cell_type": "code",
   "execution_count": 14,
   "id": "1be0e0a3",
   "metadata": {},
   "outputs": [],
   "source": [
    "cur.close()\n",
    "conn.close()"
   ]
  }
 ],
 "metadata": {
  "kernelspec": {
   "display_name": "Python 3 (ipykernel)",
   "language": "python",
   "name": "python3"
  },
  "language_info": {
   "codemirror_mode": {
    "name": "ipython",
    "version": 3
   },
   "file_extension": ".py",
   "mimetype": "text/x-python",
   "name": "python",
   "nbconvert_exporter": "python",
   "pygments_lexer": "ipython3",
   "version": "3.9.13"
  }
 },
 "nbformat": 4,
 "nbformat_minor": 5
}
