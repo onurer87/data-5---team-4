{
 "cells": [
  {
   "cell_type": "code",
   "execution_count": 12,
   "metadata": {},
   "outputs": [],
   "source": [
    "import numpy as np\n",
    "import pandas as pd\n",
    "import os\n",
    "\n",
    "df=pd.read_csv(\"../Data/googleplaystore_user_reviews.csv\") #Read the Data\n",
    "columns=df.columns\n",
    "df_clean=df.copy()"
   ]
  },
  {
   "cell_type": "code",
   "execution_count": null,
   "metadata": {},
   "outputs": [],
   "source": [
    "df_clean.shape"
   ]
  },
  {
   "cell_type": "code",
   "execution_count": null,
   "metadata": {},
   "outputs": [],
   "source": [
    "df_clean[columns[0]].value_counts()"
   ]
  },
  {
   "cell_type": "code",
   "execution_count": 13,
   "metadata": {},
   "outputs": [
    {
     "data": {
      "text/plain": [
       "Angry Birds Classic                                  320\n",
       "CBS Sports App - Scores, News, Stats & Watch Live    320\n",
       "Bowmasters                                           320\n",
       "8 Ball Pool                                          300\n",
       "Helix Jump                                           300\n",
       "                                                    ... \n",
       "Easy Healthy Recipes                                  31\n",
       "Dresses Ideas & Fashions +3000                        31\n",
       "Detector de Radares Gratis                            31\n",
       "Easy Hair Style Design                                30\n",
       "Drawing Clothes Fashion Ideas                         30\n",
       "Name: App, Length: 1074, dtype: int64"
      ]
     },
     "execution_count": 13,
     "metadata": {},
     "output_type": "execute_result"
    }
   ],
   "source": [
    "df[columns[0]].value_counts()"
   ]
  },
  {
   "cell_type": "code",
   "execution_count": null,
   "metadata": {},
   "outputs": [],
   "source": [
    "df.groupby([columns[2],columns[3]]).size()"
   ]
  },
  {
   "cell_type": "code",
   "execution_count": null,
   "metadata": {},
   "outputs": [],
   "source": [
    "the_dict=dict(df_clean['App'].value_counts())\n",
    "dict_keys=list(the_dict.keys())\n",
    "\n",
    "for i in dict_keys:\n",
    "    if pd.isna(df_clean[df_clean['App']==i]).value_counts()[-1]/the_dict[i]>0.5:\n",
    "        drop_list=df_clean[(df_clean['App']==i)].index\n",
    "        df_clean.drop(drop_list,inplace=True)\n",
    "\n",
    "\n",
    "df_clean.shape"
   ]
  },
  {
   "cell_type": "code",
   "execution_count": null,
   "metadata": {},
   "outputs": [],
   "source": [
    "df_clean[columns[1]].fillna(\"NOREVIEW\", inplace=True)\n",
    "df_clean[columns[2]].fillna(\"Neutral\", inplace=True)\n",
    "df_clean[columns[3]].fillna(0.0001, inplace=True)\n",
    "df_clean[columns[4]].fillna(0.0001, inplace=True)\n",
    "\n",
    "\n",
    "df_clean[columns[0]]=df_clean[columns[0]].astype(str)\n",
    "df_clean[columns[1]]=df_clean[columns[1]].astype(str)\n",
    "df_clean[columns[2]]=df_clean[columns[2]].astype(str)\n",
    "df_clean[columns[3]]=df_clean[columns[3]].astype(float)\n",
    "df_clean[columns[4]]=df_clean[columns[4]].astype(float)\n",
    "df_clean[columns[3]]=df_clean[columns[3]].round(4)\n",
    "df_clean[columns[4]]=df_clean[columns[4]].round(4)\n",
    "df_clean.head(30)"
   ]
  },
  {
   "cell_type": "code",
   "execution_count": null,
   "metadata": {},
   "outputs": [],
   "source": [
    "duplicate = df_clean[df_clean.duplicated()]\n",
    "\n",
    "duplicate.sort_values('Translated_Review')"
   ]
  },
  {
   "cell_type": "code",
   "execution_count": null,
   "metadata": {},
   "outputs": [],
   "source": [
    "df_clean[df_clean['Translated_Review']=='worst ever.']"
   ]
  },
  {
   "cell_type": "code",
   "execution_count": null,
   "metadata": {},
   "outputs": [],
   "source": [
    "multiple_words= df_clean[df_clean[\"Translated_Review\"].apply(lambda x: len(x.split())> 1)]\n",
    "\n",
    "multiple_words_duplicated=multiple_words[multiple_words.duplicated(keep='first')==True].index\n",
    "\n",
    "multiple_words_duplicated\n",
    "df_clean.drop(multiple_words_duplicated, inplace=True)"
   ]
  },
  {
   "cell_type": "code",
   "execution_count": null,
   "metadata": {},
   "outputs": [],
   "source": [
    "df_clean.shape"
   ]
  },
  {
   "cell_type": "code",
   "execution_count": null,
   "metadata": {},
   "outputs": [],
   "source": [
    "df_clean.to_csv(\"../Week_1/onur_googleplaystore_user_reviews_cleaned.csv\",\",\")"
   ]
  },
  {
   "cell_type": "code",
   "execution_count": null,
   "metadata": {},
   "outputs": [],
   "source": [
    "for i in columns:\n",
    "    print(df_clean[i].describe(include=all))\n"
   ]
  },
  {
   "cell_type": "code",
   "execution_count": null,
   "metadata": {},
   "outputs": [],
   "source": [
    "df_clean.tail(50)\n"
   ]
  },
  {
   "cell_type": "code",
   "execution_count": null,
   "metadata": {},
   "outputs": [],
   "source": [
    "df_clean.head(50)"
   ]
  },
  {
   "cell_type": "code",
   "execution_count": null,
   "metadata": {},
   "outputs": [],
   "source": [
    "the_dict[\"Angry Birds Classic\"]=[the_dict[\"Angry Birds Classic\"],pd.isna(df_clean[df_clean['App']==\"Angry Birds Classic\"]).value_counts()[1]]\n",
    "\n",
    "the_dict[\"Angry Birds Classic\"]\n"
   ]
  },
  {
   "cell_type": "code",
   "execution_count": null,
   "metadata": {},
   "outputs": [],
   "source": []
  }
 ],
 "metadata": {
  "kernelspec": {
   "display_name": "Python 3",
   "language": "python",
   "name": "python3"
  },
  "language_info": {
   "codemirror_mode": {
    "name": "ipython",
    "version": 3
   },
   "file_extension": ".py",
   "mimetype": "text/x-python",
   "name": "python",
   "nbconvert_exporter": "python",
   "pygments_lexer": "ipython3",
   "version": "3.11.2"
  },
  "orig_nbformat": 4
 },
 "nbformat": 4,
 "nbformat_minor": 2
}
