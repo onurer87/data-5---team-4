{
 "cells": [
  {
   "cell_type": "code",
   "execution_count": null,
   "metadata": {},
   "outputs": [],
   "source": [
    "import numpy as np\n",
    "import pandas as pd\n",
    "import os\n",
    "\n",
    "df=pd.read_csv(\"./Data/googleplaystore_user_reviews.csv\") #Read the Data\n",
    "columns=list(df.keys())\n",
    "df_clean=df.copy()"
   ]
  },
  {
   "cell_type": "code",
   "execution_count": null,
   "metadata": {},
   "outputs": [],
   "source": [
    "x=0\n",
    "df_clean[columns[x]].describe()\n",
    "np.unique(df_clean[columns[x]])\n",
    "\n",
    "# df_clean.head(30)"
   ]
  },
  {
   "cell_type": "code",
   "execution_count": null,
   "metadata": {},
   "outputs": [],
   "source": [
    "df_clean[columns[1]].fillna(\"NO REVIEW\", inplace=True)\n",
    "df_clean[columns[2]].fillna(\"Neutral\", inplace=True)\n",
    "df_clean[columns[3]].fillna(0.0001, inplace=True)\n",
    "df_clean[columns[4]].fillna(0.0001, inplace=True)\n",
    "\n",
    "\n",
    "df_clean[columns[0]]=df_clean[columns[0]].astype(str)\n",
    "df_clean[columns[1]]=df_clean[columns[1]].astype(str)\n",
    "df_clean[columns[2]]=df_clean[columns[2]].astype(str)\n",
    "df_clean[columns[3]]=df_clean[columns[3]].astype(float)\n",
    "df_clean[columns[4]]=df_clean[columns[4]].astype(float)\n",
    "df_clean[columns[3]]=df_clean[columns[3]].round(4)\n",
    "df_clean[columns[4]]=df_clean[columns[4]].round(4)\n",
    "df_clean.head(30)"
   ]
  },
  {
   "cell_type": "code",
   "execution_count": null,
   "metadata": {},
   "outputs": [],
   "source": [
    "for i in columns:\n",
    "    print(df_clean[i].describe(include=all))\n"
   ]
  },
  {
   "cell_type": "code",
   "execution_count": null,
   "metadata": {},
   "outputs": [],
   "source": [
    "for i in columns:\n",
    "    print(np.isnan(df_clean[i]))"
   ]
  },
  {
   "cell_type": "code",
   "execution_count": null,
   "metadata": {},
   "outputs": [],
   "source": [
    "df_clean.describe(include=all)"
   ]
  },
  {
   "cell_type": "code",
   "execution_count": null,
   "metadata": {},
   "outputs": [],
   "source": [
    "df_clean.shape"
   ]
  },
  {
   "cell_type": "code",
   "execution_count": null,
   "metadata": {},
   "outputs": [],
   "source": [
    "duplicate = df_clean[df_clean.duplicated()]\n",
    "\n",
    "print(duplicate)\n"
   ]
  },
  {
   "cell_type": "code",
   "execution_count": null,
   "metadata": {},
   "outputs": [],
   "source": [
    "df_clean.to_csv(\"./Data/googleplaystore_user_reviews_cleaned.csv\",\",\")"
   ]
  },
  {
   "cell_type": "code",
   "execution_count": null,
   "metadata": {},
   "outputs": [],
   "source": [
    "num_rev={}\n",
    "y=0\n",
    "for z in df_clean['App']:\n",
    "    num_rev[z]=[0,0]\n",
    "\n",
    "for i in df_clean['App']:\n",
    "    y+=1\n",
    "    num_rev[i][0]+=1\n",
    "    if df_clean['Translated_Review'].get(y)==\"NO REVIEW\":\n",
    "        num_rev[i][1]+=1\n",
    "    else:\n",
    "        pass\n",
    "\n",
    "num_rev    "
   ]
  },
  {
   "cell_type": "code",
   "execution_count": null,
   "metadata": {},
   "outputs": [],
   "source": [
    "for i in num_rev:\n",
    "    \n",
    "    if num_rev[i][1]/num_rev[i][0]>0.5:\n",
    "        drop_list=df_clean[(df_clean['App']==i)].index\n",
    "        df_clean.drop(drop_list,inplace=True)"
   ]
  },
  {
   "cell_type": "code",
   "execution_count": null,
   "metadata": {},
   "outputs": [],
   "source": [
    "df_clean.head(100)"
   ]
  },
  {
   "cell_type": "code",
   "execution_count": null,
   "metadata": {},
   "outputs": [],
   "source": [
    "df_clean.shape"
   ]
  }
 ],
 "metadata": {
  "kernelspec": {
   "display_name": "Python 3",
   "language": "python",
   "name": "python3"
  },
  "language_info": {
   "codemirror_mode": {
    "name": "ipython",
    "version": 3
   },
   "file_extension": ".py",
   "mimetype": "text/x-python",
   "name": "python",
   "nbconvert_exporter": "python",
   "pygments_lexer": "ipython3",
   "version": "3.8.2"
  },
  "orig_nbformat": 4
 },
 "nbformat": 4,
 "nbformat_minor": 2
}
