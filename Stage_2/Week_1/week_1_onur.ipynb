{
 "cells": [
  {
   "cell_type": "code",
   "execution_count": null,
   "metadata": {},
   "outputs": [],
   "source": [
    "# Import and defining steps.\n",
    "import numpy as np\n",
    "import pandas as pd\n",
    "def duplicate_clean(df,kept='last',column=None):\n",
    "    if column==None:\n",
    "        duplicate=df[df.duplicated(keep=kept)].index\n",
    "    else:\n",
    "        duplicate=df[df[column].duplicated(keep=kept)].index\n",
    "    df.drop(duplicate, inplace=True)\n",
    "    df.reset_index(inplace=True, drop=True)\n",
    "    return df.shape\n",
    "\n",
    "df_app_data= pd.read_csv(\"../Data/googleplaystore.csv\") #Read the Data\n",
    "columns=list(df_app_data.columns) #get the data keys\n",
    "clean_copy=df_app_data.copy() #create a clean copy\n",
    "\n",
    "clean_copy.shape"
   ]
  },
  {
   "cell_type": "code",
   "execution_count": null,
   "metadata": {},
   "outputs": [],
   "source": [
    "#for \"Category\" --done\n",
    "x=1\n",
    "print(columns[x])\n",
    "# print(np.unique(clean_copy[columns[x]]))\n",
    "ind=clean_copy[clean_copy[columns[x]]==\"1.9\"].index[0]\n",
    "# clean_copy.loc[ind]\n",
    "\n",
    "for i in range(len(columns)-1,0,-1):\n",
    "    if i!=1:\n",
    "        clean_copy[columns[i]][ind]=clean_copy[columns[i-1]][ind]\n",
    "    else:\n",
    "        if clean_copy[columns[i]][ind-1]==clean_copy[columns[i-1]][ind+1]:\n",
    "            clean_copy[columns[i]][ind]=clean_copy[columns[i-1]][ind-1]\n",
    "        else: \n",
    "            clean_copy[columns[i]][ind]=clean_copy[columns[i]][ind+1]\n",
    "\n",
    "# # clean_copy.loc[10472]\n",
    "clean_copy[\"Reviews\"][ind]=19\n",
    "clean_copy[columns[x]]=clean_copy[columns[x]].astype(str)\n",
    "\n",
    "clean_copy['Category'].values\n",
    "\n",
    "# # type(clean_copy[columns[x]][5])\n",
    "# # print(clean_copy.loc[10472])\n",
    "# clean_copy[columns[x]].describe()"
   ]
  },
  {
   "cell_type": "code",
   "execution_count": null,
   "metadata": {},
   "outputs": [],
   "source": [
    "#For Column \"App\" --done\n",
    "x=0\n",
    "print(columns[x])\n",
    "clean_copy[columns[x]]=clean_copy[columns[x]].astype(str)\n",
    "\n",
    "type(clean_copy[columns[x]][5])\n",
    "clean_copy[columns[x]].describe()\n"
   ]
  },
  {
   "cell_type": "code",
   "execution_count": null,
   "metadata": {},
   "outputs": [],
   "source": [
    "#App 2 --done\n",
    "duplicate_clean(clean_copy)\n",
    "\n",
    "dupl_dict=dict(clean_copy['App'].value_counts())\n",
    "pop_key=[]\n",
    "for key in dupl_dict.keys():\n",
    "    \n",
    "    if dupl_dict[key]==1:\n",
    "        pop_key.append(key)\n",
    "    else:\n",
    "        continue\n",
    "for key in pop_key:\n",
    "    dupl_dict.pop(key)\n",
    "\n",
    "for appp in dupl_dict.keys():\n",
    "    indexes=clean_copy[clean_copy['App']==appp].index\n",
    "    max_revs=clean_copy[clean_copy['App']==appp]['Reviews'].max()\n",
    "\n",
    "    for i in indexes:\n",
    "        if clean_copy['Reviews'][i]!=max_revs:\n",
    "            clean_copy.drop(i, inplace=True)\n",
    "\n",
    "duplicate_clean(clean_copy,column='App')"
   ]
  },
  {
   "cell_type": "code",
   "execution_count": null,
   "metadata": {},
   "outputs": [],
   "source": [
    "clean_copy[clean_copy['App']==\"Helix Jump\"]['Reviews']==df_app_data[df_app_data['App']==\"Helix Jump\"]['Reviews'].max()"
   ]
  },
  {
   "cell_type": "code",
   "execution_count": null,
   "metadata": {},
   "outputs": [],
   "source": [
    "clean_copy['App'].value_counts()"
   ]
  },
  {
   "cell_type": "code",
   "execution_count": null,
   "metadata": {},
   "outputs": [],
   "source": [
    "clean_copy[clean_copy['App']==\"osmino Wi-Fi: free WiFi\"]"
   ]
  },
  {
   "cell_type": "code",
   "execution_count": null,
   "metadata": {},
   "outputs": [],
   "source": [
    "clean_copy[clean_copy['App']==\"Bubble Shooter\"]['Reviews']==df_app_data[df_app_data['App']==\"Bubble Shooter\"]['Reviews'].max()"
   ]
  },
  {
   "cell_type": "code",
   "execution_count": null,
   "metadata": {},
   "outputs": [],
   "source": [
    "#\"Rating\"--done\n",
    "x=2\n",
    "print(columns[x])\n",
    "pd.isna(clean_copy[columns[x]]).value_counts()\n",
    "# clean_copy[columns[x]]=clean_copy[columns[x]].astype(float)\n",
    "apps=np.unique(clean_copy['App'])\n",
    "apps\n",
    "\n",
    "for app in apps:\n",
    "    if np.sum(pd.isna(clean_copy[clean_copy['App']==app]['Rating']))/len(clean_copy[clean_copy['App']==app]['Rating'])>0.5:\n",
    "        drop_list=clean_copy[(clean_copy['App']==app)].index\n",
    "        clean_copy.drop(drop_list,inplace=True)\n",
    "    else:\n",
    "        clean_copy[clean_copy['App']==app]['Rating'].fillna(np.mean(clean_copy[clean_copy['App']==app]['Rating']), inplace=True)\n",
    "\n",
    "\n",
    "clean_copy.reset_index(inplace=True, drop=True) \n",
    "\n"
   ]
  },
  {
   "cell_type": "code",
   "execution_count": null,
   "metadata": {},
   "outputs": [],
   "source": [
    "#Reviews --done\n",
    "x=3\n",
    "print(columns[x])\n",
    "\n",
    "clean_copy[columns[x]]=clean_copy[columns[x]].astype(int)\n",
    "clean_copy[columns[x]].describe()\n",
    "\n"
   ]
  },
  {
   "cell_type": "code",
   "execution_count": null,
   "metadata": {},
   "outputs": [],
   "source": [
    "#Size --done\n",
    "x=4\n",
    "print(columns[x])\n",
    "\n",
    "pd.isnull(clean_copy['Size']).describe()\n",
    "clean_copy[columns[x]]=clean_copy[columns[x]].astype(str)\n",
    "\n",
    "# clean_copy['Size']\n",
    "# replace('M',\"\",inplace=True)\n",
    "\n",
    "for i in range(len(clean_copy['Size'])):\n",
    "    if clean_copy['Size'][i].count('M')==1:\n",
    "        clean_copy['Size'][i]=float(clean_copy['Size'][i][:-1])\n",
    "        \n",
    "    elif clean_copy['Size'][i].count('k')==1:\n",
    "        clean_copy['Size'][i]=float(clean_copy['Size'][i][:-1])/1000\n",
    "        \n",
    "    elif clean_copy['Size'][i]==\"Varies with device\":\n",
    "        clean_copy['Size'][i]=float(-99.99)\n",
    "    else:\n",
    "        pass\n",
    "# clean_copy[columns[x]]=clean_copy[columns[x]].astype(float)\n",
    "# clean_copy['Size'].describe()\n",
    "# clean_copy['Size'].values\n",
    "# np.unique(clean_copy['Size'])\n",
    "clean_copy['Size']"
   ]
  },
  {
   "cell_type": "code",
   "execution_count": null,
   "metadata": {},
   "outputs": [],
   "source": [
    "#Installs --done\n",
    "x=5\n",
    "print(columns[x])\n",
    "clean_copy[columns[x]][0:20]\n",
    "\n",
    "np.unique(clean_copy[columns[x]])\n",
    "index=np.where(clean_copy[columns[x]]==\"0+\")[0]\n",
    "\n",
    "for i in index:\n",
    "    clean_copy[columns[x]][i]=1\n",
    "\n",
    "clean_copy[columns[x]]=clean_copy[columns[x]].astype(str)\n",
    "for i in range(len(clean_copy[columns[x]])):\n",
    "    if clean_copy[columns[x]][i].count('+')==1:\n",
    "        clean_copy[columns[x]][i]=clean_copy[columns[x]][i].replace('+',\"\",)\n",
    "    else:\n",
    "        pass\n",
    "    if clean_copy[columns[x]][i].count(',')>=1:\n",
    "        clean_copy[columns[x]][i]=clean_copy[columns[x]][i].replace(',',\"\")\n",
    "    else:\n",
    "        pass\n",
    "\n",
    "clean_copy[columns[x]]=clean_copy[columns[x]].astype(int)\n",
    "clean_copy[columns[x]].value_counts()\n",
    "\n",
    "\n"
   ]
  },
  {
   "cell_type": "code",
   "execution_count": null,
   "metadata": {},
   "outputs": [],
   "source": [
    "#Type --done\n",
    "x=6\n",
    "print(columns[x])\n",
    "clean_copy[columns[x]].describe()\n",
    "\n",
    "clean_copy[columns[x]]=clean_copy[columns[x]].astype(str)\n",
    "nan_index=clean_copy[clean_copy[columns[x]]==\"nan\"].index[]\n",
    "nan_index\n",
    "\n",
    "# if clean_copy[columns[x+1]][nan_index]=='0':\n",
    "#     clean_copy[columns[x]][nan_index]=\"Free\"\n",
    "# else:\n",
    "#     clean_copy[columns[x]][nan_index]=\"Paid\"\n",
    "\n",
    "# clean_copy['Type'].value_counts()"
   ]
  },
  {
   "cell_type": "code",
   "execution_count": null,
   "metadata": {},
   "outputs": [],
   "source": [
    "# Price --done\n",
    "x=7\n",
    "print(columns[x])\n",
    "# print(clean_copy[columns[x]][0:20])\n",
    "clean_copy[columns[x]].describe()\n",
    "clean_copy[columns[x]].value_counts()\n",
    "clean_copy[columns[x]]=clean_copy[columns[x]].astype(str)\n",
    "for i in range(len(clean_copy[columns[x]])):\n",
    "    if clean_copy[columns[x]][i].count('$')>=1:\n",
    "        clean_copy[columns[x]][i]=clean_copy[columns[x]][i][1:]\n",
    "    else:\n",
    "        pass\n",
    "clean_copy[columns[x]]=clean_copy[columns[x]].astype(float)\n",
    "clean_copy[columns[x]].value_counts()\n"
   ]
  },
  {
   "cell_type": "code",
   "execution_count": null,
   "metadata": {},
   "outputs": [],
   "source": [
    "# Checkin outlier value\n",
    "np.where(clean_copy[columns[x]]==400)\n",
    "clean_copy.loc[np.where(clean_copy[columns[x]]==400)]"
   ]
  },
  {
   "cell_type": "code",
   "execution_count": null,
   "metadata": {},
   "outputs": [],
   "source": [
    "# Content Rating --done\n",
    "x=8\n",
    "print(columns[x])\n",
    "# print(clean_copy[columns[x]][0:20])\n",
    "clean_copy[columns[x]].value_counts()\n",
    "clean_copy[columns[x]]=clean_copy[columns[x]].astype(str)\n",
    "for i in range(len(clean_copy[columns[x]])):\n",
    "    clean_copy[columns[x]][i]=clean_copy[columns[x]][i].title()\n",
    "\n",
    "clean_copy[columns[x]].value_counts()\n"
   ]
  },
  {
   "cell_type": "code",
   "execution_count": null,
   "metadata": {},
   "outputs": [],
   "source": [
    "# Genres --done\n",
    "x=9\n",
    "print(columns[x])\n",
    "clean_copy[columns[x]]=clean_copy[columns[x]].astype(str)\n",
    "index=clean_copy[clean_copy[columns[x]]==\"nan\"].index[0]\n",
    "print(index)\n",
    "clean_copy.loc[index]\n",
    "\n",
    "clean_copy[columns[x]][index]=clean_copy['Category'][index]\n",
    "clean_copy.loc[index]"
   ]
  },
  {
   "cell_type": "code",
   "execution_count": null,
   "metadata": {},
   "outputs": [],
   "source": [
    "# Deleting Android Ver, Current Ver, Last Updated columns --done\n",
    "clean_copy.drop('Android Ver', inplace=True, axis=1)\n",
    "clean_copy.drop('Current Ver', inplace=True, axis=1)\n",
    "clean_copy.drop('Last Updated', inplace=True, axis=1)\n",
    "clean_copy.head(20)"
   ]
  },
  {
   "cell_type": "code",
   "execution_count": null,
   "metadata": {},
   "outputs": [],
   "source": [
    "for i in range(10):\n",
    "    print(pd.isna(clean_copy[columns[i]]).value_counts())\n",
    "clean_copy.shape"
   ]
  },
  {
   "cell_type": "code",
   "execution_count": null,
   "metadata": {},
   "outputs": [],
   "source": [
    "clean_copy.to_csv(\"../Week_1/onur_googleplaystore_cleaned.csv\",\",\")"
   ]
  }
 ],
 "metadata": {
  "kernelspec": {
   "display_name": "Python 3",
   "language": "python",
   "name": "python3"
  },
  "language_info": {
   "codemirror_mode": {
    "name": "ipython",
    "version": 3
   },
   "file_extension": ".py",
   "mimetype": "text/x-python",
   "name": "python",
   "nbconvert_exporter": "python",
   "pygments_lexer": "ipython3",
   "version": "3.11.2"
  },
  "orig_nbformat": 4,
  "vscode": {
   "interpreter": {
    "hash": "6ee369a2afd4a614a1e5aa9ef2e438b62b9081287575b70d0009e3bf7c2277f4"
   }
  }
 },
 "nbformat": 4,
 "nbformat_minor": 2
}
