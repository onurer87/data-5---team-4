{
 "cells": [
  {
   "cell_type": "code",
   "execution_count": 1,
   "metadata": {},
   "outputs": [
    {
     "data": {
      "text/plain": [
       "(10841, 13)"
      ]
     },
     "execution_count": 1,
     "metadata": {},
     "output_type": "execute_result"
    }
   ],
   "source": [
    "# Import and defining steps.\n",
    "import numpy as np\n",
    "import pandas as pd\n",
    "def duplicate_clean(df,kept='last',column=None):\n",
    "    if column==None:\n",
    "        duplicate=df[df.duplicated(keep=kept)].index\n",
    "    else:\n",
    "        duplicate=df[df[column].duplicated(keep=kept)].index\n",
    "    df.drop(duplicate, inplace=True)\n",
    "    df.reset_index(inplace=True, drop=True)\n",
    "    return df.shape\n",
    "\n",
    "df_app_data= pd.read_csv(\"../Data/googleplaystore.csv\") #Read the Data\n",
    "columns=list(df_app_data.columns) #get the data keys\n",
    "clean_copy=df_app_data.copy() #create a clean copy\n",
    "\n",
    "clean_copy.shape"
   ]
  },
  {
   "cell_type": "code",
   "execution_count": 2,
   "metadata": {},
   "outputs": [
    {
     "name": "stdout",
     "output_type": "stream",
     "text": [
      "Category\n"
     ]
    },
    {
     "name": "stderr",
     "output_type": "stream",
     "text": [
      "C:\\Users\\lenovo\\AppData\\Local\\Temp\\ipykernel_9736\\3274795127.py:10: SettingWithCopyWarning: \n",
      "A value is trying to be set on a copy of a slice from a DataFrame\n",
      "\n",
      "See the caveats in the documentation: https://pandas.pydata.org/pandas-docs/stable/user_guide/indexing.html#returning-a-view-versus-a-copy\n",
      "  clean_copy[columns[i]][ind]=clean_copy[columns[i-1]][ind]\n"
     ]
    },
    {
     "data": {
      "text/plain": [
       "array(['ART_AND_DESIGN', 'ART_AND_DESIGN', 'ART_AND_DESIGN', ...,\n",
       "       'MEDICAL', 'BOOKS_AND_REFERENCE', 'LIFESTYLE'], dtype=object)"
      ]
     },
     "execution_count": 2,
     "metadata": {},
     "output_type": "execute_result"
    }
   ],
   "source": [
    "#for \"Category\" --done\n",
    "x=1\n",
    "print(columns[x])\n",
    "# print(np.unique(clean_copy[columns[x]]))\n",
    "ind=clean_copy[clean_copy[columns[x]]==\"1.9\"].index[0]\n",
    "# clean_copy.loc[ind]\n",
    "\n",
    "for i in range(len(columns)-1,0,-1):\n",
    "    if i!=1:\n",
    "        clean_copy[columns[i]][ind]=clean_copy[columns[i-1]][ind]\n",
    "    else:\n",
    "        if clean_copy[columns[i]][ind-1]==clean_copy[columns[i-1]][ind+1]:\n",
    "            clean_copy[columns[i]][ind]=clean_copy[columns[i-1]][ind-1]\n",
    "        else: \n",
    "            clean_copy[columns[i]][ind]=clean_copy[columns[i]][ind+1]\n",
    "\n",
    "# # clean_copy.loc[10472]\n",
    "clean_copy[\"Reviews\"][ind]=19\n",
    "clean_copy[columns[x]]=clean_copy[columns[x]].astype(str)\n",
    "\n",
    "clean_copy['Category'].values\n",
    "\n",
    "# # type(clean_copy[columns[x]][5])\n",
    "# # print(clean_copy.loc[10472])\n",
    "# clean_copy[columns[x]].describe()"
   ]
  },
  {
   "cell_type": "code",
   "execution_count": 3,
   "metadata": {},
   "outputs": [
    {
     "name": "stdout",
     "output_type": "stream",
     "text": [
      "App\n"
     ]
    },
    {
     "data": {
      "text/plain": [
       "count      10841\n",
       "unique      9660\n",
       "top       ROBLOX\n",
       "freq           9\n",
       "Name: App, dtype: object"
      ]
     },
     "execution_count": 3,
     "metadata": {},
     "output_type": "execute_result"
    }
   ],
   "source": [
    "#For Column \"App\" --done\n",
    "x=0\n",
    "print(columns[x])\n",
    "clean_copy[columns[x]]=clean_copy[columns[x]].astype(str)\n",
    "\n",
    "type(clean_copy[columns[x]][5])\n",
    "clean_copy[columns[x]].describe()\n"
   ]
  },
  {
   "cell_type": "code",
   "execution_count": 4,
   "metadata": {},
   "outputs": [
    {
     "data": {
      "text/plain": [
       "(9660, 13)"
      ]
     },
     "execution_count": 4,
     "metadata": {},
     "output_type": "execute_result"
    }
   ],
   "source": [
    "#App 2 --done\n",
    "duplicate_clean(clean_copy)\n",
    "\n",
    "dupl_dict=dict(clean_copy['App'].value_counts())\n",
    "pop_key=[]\n",
    "for key in dupl_dict.keys():\n",
    "    \n",
    "    if dupl_dict[key]==1:\n",
    "        pop_key.append(key)\n",
    "    else:\n",
    "        continue\n",
    "for key in pop_key:\n",
    "    dupl_dict.pop(key)\n",
    "\n",
    "for appp in dupl_dict.keys():\n",
    "    indexes=clean_copy[clean_copy['App']==appp].index\n",
    "    max_revs=clean_copy[clean_copy['App']==appp]['Reviews'].max()\n",
    "\n",
    "    for i in indexes:\n",
    "        if clean_copy['Reviews'][i]!=max_revs:\n",
    "            clean_copy.drop(i, inplace=True)\n",
    "\n",
    "duplicate_clean(clean_copy,column='App')"
   ]
  },
  {
   "cell_type": "code",
   "execution_count": 5,
   "metadata": {},
   "outputs": [
    {
     "data": {
      "text/plain": [
       "1367    True\n",
       "Name: Reviews, dtype: bool"
      ]
     },
     "execution_count": 5,
     "metadata": {},
     "output_type": "execute_result"
    }
   ],
   "source": [
    "clean_copy[clean_copy['App']==\"Helix Jump\"]['Reviews']==df_app_data[df_app_data['App']==\"Helix Jump\"]['Reviews'].max()"
   ]
  },
  {
   "cell_type": "code",
   "execution_count": 6,
   "metadata": {},
   "outputs": [
    {
     "data": {
      "text/plain": [
       "Photo Editor & Candy Camera & Grid & ScrapBook    1\n",
       "StirFry Stunts - We Bare Bears                    1\n",
       "LEGO® TV                                          1\n",
       "Boomerang                                         1\n",
       "We Bare Bears Match3 Repairs                      1\n",
       "                                                 ..\n",
       "KIM KARDASHIAN: HOLLYWOOD                         1\n",
       "Sight Words Pre-K to Grade-3                      1\n",
       "[Substratum] K-Manager for K-Klock                1\n",
       "KDRAMA Amino for K-Drama Fans                     1\n",
       "iHoroscope - 2018 Daily Horoscope & Astrology     1\n",
       "Name: App, Length: 9660, dtype: int64"
      ]
     },
     "execution_count": 6,
     "metadata": {},
     "output_type": "execute_result"
    }
   ],
   "source": [
    "clean_copy['App'].value_counts()"
   ]
  },
  {
   "cell_type": "code",
   "execution_count": 7,
   "metadata": {},
   "outputs": [
    {
     "data": {
      "text/html": [
       "<div>\n",
       "<style scoped>\n",
       "    .dataframe tbody tr th:only-of-type {\n",
       "        vertical-align: middle;\n",
       "    }\n",
       "\n",
       "    .dataframe tbody tr th {\n",
       "        vertical-align: top;\n",
       "    }\n",
       "\n",
       "    .dataframe thead th {\n",
       "        text-align: right;\n",
       "    }\n",
       "</style>\n",
       "<table border=\"1\" class=\"dataframe\">\n",
       "  <thead>\n",
       "    <tr style=\"text-align: right;\">\n",
       "      <th></th>\n",
       "      <th>App</th>\n",
       "      <th>Category</th>\n",
       "      <th>Rating</th>\n",
       "      <th>Reviews</th>\n",
       "      <th>Size</th>\n",
       "      <th>Installs</th>\n",
       "      <th>Type</th>\n",
       "      <th>Price</th>\n",
       "      <th>Content Rating</th>\n",
       "      <th>Genres</th>\n",
       "      <th>Last Updated</th>\n",
       "      <th>Current Ver</th>\n",
       "      <th>Android Ver</th>\n",
       "    </tr>\n",
       "  </thead>\n",
       "  <tbody>\n",
       "    <tr>\n",
       "      <th>9293</th>\n",
       "      <td>osmino Wi-Fi: free WiFi</td>\n",
       "      <td>TOOLS</td>\n",
       "      <td>4.2</td>\n",
       "      <td>134203</td>\n",
       "      <td>4.1M</td>\n",
       "      <td>10,000,000+</td>\n",
       "      <td>Free</td>\n",
       "      <td>0</td>\n",
       "      <td>Everyone</td>\n",
       "      <td>Tools</td>\n",
       "      <td>August 7, 2018</td>\n",
       "      <td>6.06.14</td>\n",
       "      <td>4.4 and up</td>\n",
       "    </tr>\n",
       "  </tbody>\n",
       "</table>\n",
       "</div>"
      ],
      "text/plain": [
       "                          App Category Rating Reviews  Size     Installs  \\\n",
       "9293  osmino Wi-Fi: free WiFi    TOOLS    4.2  134203  4.1M  10,000,000+   \n",
       "\n",
       "      Type Price Content Rating Genres    Last Updated Current Ver Android Ver  \n",
       "9293  Free     0       Everyone  Tools  August 7, 2018     6.06.14  4.4 and up  "
      ]
     },
     "execution_count": 7,
     "metadata": {},
     "output_type": "execute_result"
    }
   ],
   "source": [
    "clean_copy[clean_copy['App']==\"osmino Wi-Fi: free WiFi\"]"
   ]
  },
  {
   "cell_type": "code",
   "execution_count": 8,
   "metadata": {},
   "outputs": [
    {
     "data": {
      "text/plain": [
       "1458    True\n",
       "Name: Reviews, dtype: bool"
      ]
     },
     "execution_count": 8,
     "metadata": {},
     "output_type": "execute_result"
    }
   ],
   "source": [
    "clean_copy[clean_copy['App']==\"Bubble Shooter\"]['Reviews']==df_app_data[df_app_data['App']==\"Bubble Shooter\"]['Reviews'].max()"
   ]
  },
  {
   "cell_type": "code",
   "execution_count": 9,
   "metadata": {},
   "outputs": [
    {
     "name": "stdout",
     "output_type": "stream",
     "text": [
      "Rating\n"
     ]
    },
    {
     "name": "stderr",
     "output_type": "stream",
     "text": [
      "C:\\Users\\lenovo\\AppData\\Local\\Temp\\ipykernel_9736\\1681801667.py:14: SettingWithCopyWarning: \n",
      "A value is trying to be set on a copy of a slice from a DataFrame\n",
      "\n",
      "See the caveats in the documentation: https://pandas.pydata.org/pandas-docs/stable/user_guide/indexing.html#returning-a-view-versus-a-copy\n",
      "  clean_copy[clean_copy['App']==app]['Rating'].fillna(np.mean(clean_copy[clean_copy['App']==app]['Rating']), inplace=True)\n"
     ]
    }
   ],
   "source": [
    "#\"Rating\"--done\n",
    "x=2\n",
    "print(columns[x])\n",
    "pd.isna(clean_copy[columns[x]]).value_counts()\n",
    "# clean_copy[columns[x]]=clean_copy[columns[x]].astype(float)\n",
    "apps=np.unique(clean_copy['App'])\n",
    "apps\n",
    "\n",
    "for app in apps:\n",
    "    if np.sum(pd.isna(clean_copy[clean_copy['App']==app]['Rating']))/len(clean_copy[clean_copy['App']==app]['Rating'])>0.5:\n",
    "        drop_list=clean_copy[(clean_copy['App']==app)].index\n",
    "        clean_copy.drop(drop_list,inplace=True)\n",
    "    else:\n",
    "        clean_copy[clean_copy['App']==app]['Rating'].fillna(np.mean(clean_copy[clean_copy['App']==app]['Rating']), inplace=True)\n",
    "\n",
    "\n",
    "clean_copy.reset_index(inplace=True, drop=True) \n",
    "\n"
   ]
  },
  {
   "cell_type": "code",
   "execution_count": 10,
   "metadata": {},
   "outputs": [
    {
     "name": "stdout",
     "output_type": "stream",
     "text": [
      "Reviews\n"
     ]
    },
    {
     "data": {
      "text/plain": [
       "count    8.197000e+03\n",
       "mean     2.552172e+05\n",
       "std      1.985560e+06\n",
       "min      1.000000e+00\n",
       "25%      1.260000e+02\n",
       "50%      3.003000e+03\n",
       "75%      4.367700e+04\n",
       "max      7.815831e+07\n",
       "Name: Reviews, dtype: float64"
      ]
     },
     "execution_count": 10,
     "metadata": {},
     "output_type": "execute_result"
    }
   ],
   "source": [
    "#Reviews --done\n",
    "x=3\n",
    "print(columns[x])\n",
    "\n",
    "clean_copy[columns[x]]=clean_copy[columns[x]].astype(int)\n",
    "clean_copy[columns[x]].describe()\n",
    "\n"
   ]
  },
  {
   "cell_type": "code",
   "execution_count": 11,
   "metadata": {},
   "outputs": [
    {
     "data": {
      "text/plain": [
       "Varies with device    1169\n",
       "14M                    149\n",
       "12M                    146\n",
       "11M                    144\n",
       "13M                    143\n",
       "                      ... \n",
       "454k                     1\n",
       "812k                     1\n",
       "442k                     1\n",
       "842k                     1\n",
       "619k                     1\n",
       "Name: Size, Length: 414, dtype: int64"
      ]
     },
     "execution_count": 11,
     "metadata": {},
     "output_type": "execute_result"
    }
   ],
   "source": [
    "clean_copy['Size'].value_counts()"
   ]
  },
  {
   "cell_type": "code",
   "execution_count": 12,
   "metadata": {},
   "outputs": [
    {
     "name": "stdout",
     "output_type": "stream",
     "text": [
      "Size\n"
     ]
    },
    {
     "name": "stderr",
     "output_type": "stream",
     "text": [
      "C:\\Users\\lenovo\\AppData\\Local\\Temp\\ipykernel_9736\\2940861486.py:13: SettingWithCopyWarning: \n",
      "A value is trying to be set on a copy of a slice from a DataFrame\n",
      "\n",
      "See the caveats in the documentation: https://pandas.pydata.org/pandas-docs/stable/user_guide/indexing.html#returning-a-view-versus-a-copy\n",
      "  clean_copy['Size'][i]=float(clean_copy['Size'][i][:-1])\n",
      "C:\\Users\\lenovo\\AppData\\Local\\Temp\\ipykernel_9736\\2940861486.py:19: SettingWithCopyWarning: \n",
      "A value is trying to be set on a copy of a slice from a DataFrame\n",
      "\n",
      "See the caveats in the documentation: https://pandas.pydata.org/pandas-docs/stable/user_guide/indexing.html#returning-a-view-versus-a-copy\n",
      "  clean_copy['Size'][i]=float(-99.99)\n",
      "C:\\Users\\lenovo\\AppData\\Local\\Temp\\ipykernel_9736\\2940861486.py:16: SettingWithCopyWarning: \n",
      "A value is trying to be set on a copy of a slice from a DataFrame\n",
      "\n",
      "See the caveats in the documentation: https://pandas.pydata.org/pandas-docs/stable/user_guide/indexing.html#returning-a-view-versus-a-copy\n",
      "  clean_copy['Size'][i]=float(clean_copy['Size'][i][:-1])/1024\n"
     ]
    },
    {
     "data": {
      "text/plain": [
       "0        19.0\n",
       "1         8.7\n",
       "2        25.0\n",
       "3         2.8\n",
       "4         5.6\n",
       "        ...  \n",
       "8192      2.6\n",
       "8193     53.0\n",
       "8194      3.6\n",
       "8195   -99.99\n",
       "8196     19.0\n",
       "Name: Size, Length: 8197, dtype: object"
      ]
     },
     "execution_count": 12,
     "metadata": {},
     "output_type": "execute_result"
    }
   ],
   "source": [
    "#Size --done\n",
    "x=4\n",
    "print(columns[x])\n",
    "\n",
    "pd.isnull(clean_copy['Size']).describe()\n",
    "clean_copy[columns[x]]=clean_copy[columns[x]].astype(str)\n",
    "\n",
    "# clean_copy['Size']\n",
    "# replace('M',\"\",inplace=True)\n",
    "\n",
    "for i in range(len(clean_copy['Size'])):\n",
    "    if clean_copy['Size'][i].count('M')==1:\n",
    "        clean_copy['Size'][i]=float(clean_copy['Size'][i][:-1])\n",
    "        \n",
    "    elif clean_copy['Size'][i].count('k')==1:\n",
    "        clean_copy['Size'][i]=float(clean_copy['Size'][i][:-1])/1024\n",
    "        \n",
    "    elif clean_copy['Size'][i]==\"Varies with device\":\n",
    "        clean_copy['Size'][i]=float(-99.99)\n",
    "    else:\n",
    "        pass\n",
    "# clean_copy[columns[x]]=clean_copy[columns[x]].astype(float)\n",
    "# clean_copy['Size'].describe()\n",
    "# clean_copy['Size'].values\n",
    "# np.unique(clean_copy['Size'])\n",
    "clean_copy['Size']"
   ]
  },
  {
   "cell_type": "code",
   "execution_count": 13,
   "metadata": {},
   "outputs": [
    {
     "data": {
      "text/plain": [
       "Series([], dtype: int64)"
      ]
     },
     "execution_count": 13,
     "metadata": {},
     "output_type": "execute_result"
    }
   ],
   "source": [
    "clean_copy[clean_copy['Size']==\"Varies with device\"].value_counts()"
   ]
  },
  {
   "cell_type": "code",
   "execution_count": null,
   "metadata": {},
   "outputs": [],
   "source": []
  },
  {
   "cell_type": "code",
   "execution_count": 14,
   "metadata": {},
   "outputs": [
    {
     "name": "stdout",
     "output_type": "stream",
     "text": [
      "Installs\n"
     ]
    },
    {
     "name": "stderr",
     "output_type": "stream",
     "text": [
      "C:\\Users\\lenovo\\AppData\\Local\\Temp\\ipykernel_9736\\1633829938.py:15: SettingWithCopyWarning: \n",
      "A value is trying to be set on a copy of a slice from a DataFrame\n",
      "\n",
      "See the caveats in the documentation: https://pandas.pydata.org/pandas-docs/stable/user_guide/indexing.html#returning-a-view-versus-a-copy\n",
      "  clean_copy[columns[x]][i]=clean_copy[columns[x]][i].replace('+',\"\",)\n",
      "C:\\Users\\lenovo\\AppData\\Local\\Temp\\ipykernel_9736\\1633829938.py:19: SettingWithCopyWarning: \n",
      "A value is trying to be set on a copy of a slice from a DataFrame\n",
      "\n",
      "See the caveats in the documentation: https://pandas.pydata.org/pandas-docs/stable/user_guide/indexing.html#returning-a-view-versus-a-copy\n",
      "  clean_copy[columns[x]][i]=clean_copy[columns[x]][i].replace(',',\"\")\n"
     ]
    },
    {
     "data": {
      "text/plain": [
       "1000000       1416\n",
       "100000        1095\n",
       "10000          986\n",
       "10000000       934\n",
       "1000           698\n",
       "5000000        608\n",
       "500000         504\n",
       "50000          457\n",
       "5000           425\n",
       "100            303\n",
       "50000000       203\n",
       "500            199\n",
       "100000000      188\n",
       "10              69\n",
       "50              56\n",
       "500000000       24\n",
       "1000000000      20\n",
       "5                9\n",
       "1                3\n",
       "Name: Installs, dtype: int64"
      ]
     },
     "execution_count": 14,
     "metadata": {},
     "output_type": "execute_result"
    }
   ],
   "source": [
    "#Installs --done\n",
    "x=5\n",
    "print(columns[x])\n",
    "clean_copy[columns[x]][0:20]\n",
    "\n",
    "np.unique(clean_copy[columns[x]])\n",
    "index=np.where(clean_copy[columns[x]]==\"0+\")[0]\n",
    "\n",
    "for i in index:\n",
    "    clean_copy[columns[x]][i]=1\n",
    "\n",
    "clean_copy[columns[x]]=clean_copy[columns[x]].astype(str)\n",
    "for i in range(len(clean_copy[columns[x]])):\n",
    "    if clean_copy[columns[x]][i].count('+')==1:\n",
    "        clean_copy[columns[x]][i]=clean_copy[columns[x]][i].replace('+',\"\",)\n",
    "    else:\n",
    "        pass\n",
    "    if clean_copy[columns[x]][i].count(',')>=1:\n",
    "        clean_copy[columns[x]][i]=clean_copy[columns[x]][i].replace(',',\"\")\n",
    "    else:\n",
    "        pass\n",
    "\n",
    "clean_copy[columns[x]]=clean_copy[columns[x]].astype(int)\n",
    "clean_copy[columns[x]].value_counts()\n",
    "\n",
    "\n"
   ]
  },
  {
   "cell_type": "code",
   "execution_count": 17,
   "metadata": {},
   "outputs": [
    {
     "name": "stdout",
     "output_type": "stream",
     "text": [
      "Type\n"
     ]
    },
    {
     "data": {
      "text/plain": [
       "Int64Index([], dtype='int64')"
      ]
     },
     "execution_count": 17,
     "metadata": {},
     "output_type": "execute_result"
    }
   ],
   "source": [
    "#Type --done\n",
    "x=6\n",
    "print(columns[x])\n",
    "clean_copy[columns[x]].describe()\n",
    "\n",
    "clean_copy[columns[x]]=clean_copy[columns[x]].astype(str)\n",
    "nan_index=clean_copy[clean_copy[columns[x]]==\"nan\"].index\n",
    "nan_index\n",
    "\n",
    "# if clean_copy[columns[x+1]][nan_index]=='0':\n",
    "#     clean_copy[columns[x]][nan_index]=\"Free\"\n",
    "# else:\n",
    "#     clean_copy[columns[x]][nan_index]=\"Paid\"\n",
    "\n",
    "# clean_copy['Type'].value_counts()"
   ]
  },
  {
   "cell_type": "code",
   "execution_count": 18,
   "metadata": {},
   "outputs": [
    {
     "name": "stdout",
     "output_type": "stream",
     "text": [
      "Price\n"
     ]
    },
    {
     "name": "stderr",
     "output_type": "stream",
     "text": [
      "C:\\Users\\lenovo\\AppData\\Local\\Temp\\ipykernel_9736\\3963136500.py:10: SettingWithCopyWarning: \n",
      "A value is trying to be set on a copy of a slice from a DataFrame\n",
      "\n",
      "See the caveats in the documentation: https://pandas.pydata.org/pandas-docs/stable/user_guide/indexing.html#returning-a-view-versus-a-copy\n",
      "  clean_copy[columns[x]][i]=clean_copy[columns[x]][i][1:]\n"
     ]
    },
    {
     "data": {
      "text/plain": [
       "0.00      7593\n",
       "2.99       109\n",
       "0.99       104\n",
       "4.99        68\n",
       "1.99        59\n",
       "          ... \n",
       "1.59         1\n",
       "6.49         1\n",
       "1.29         1\n",
       "299.99       1\n",
       "1.20         1\n",
       "Name: Price, Length: 73, dtype: int64"
      ]
     },
     "execution_count": 18,
     "metadata": {},
     "output_type": "execute_result"
    }
   ],
   "source": [
    "# Price --done\n",
    "x=7\n",
    "print(columns[x])\n",
    "# print(clean_copy[columns[x]][0:20])\n",
    "clean_copy[columns[x]].describe()\n",
    "clean_copy[columns[x]].value_counts()\n",
    "clean_copy[columns[x]]=clean_copy[columns[x]].astype(str)\n",
    "for i in range(len(clean_copy[columns[x]])):\n",
    "    if clean_copy[columns[x]][i].count('$')>=1:\n",
    "        clean_copy[columns[x]][i]=clean_copy[columns[x]][i][1:]\n",
    "    else:\n",
    "        pass\n",
    "clean_copy[columns[x]]=clean_copy[columns[x]].astype(float)\n",
    "clean_copy[columns[x]].value_counts()\n"
   ]
  },
  {
   "cell_type": "code",
   "execution_count": 19,
   "metadata": {},
   "outputs": [
    {
     "data": {
      "text/html": [
       "<div>\n",
       "<style scoped>\n",
       "    .dataframe tbody tr th:only-of-type {\n",
       "        vertical-align: middle;\n",
       "    }\n",
       "\n",
       "    .dataframe tbody tr th {\n",
       "        vertical-align: top;\n",
       "    }\n",
       "\n",
       "    .dataframe thead th {\n",
       "        text-align: right;\n",
       "    }\n",
       "</style>\n",
       "<table border=\"1\" class=\"dataframe\">\n",
       "  <thead>\n",
       "    <tr style=\"text-align: right;\">\n",
       "      <th></th>\n",
       "      <th>App</th>\n",
       "      <th>Category</th>\n",
       "      <th>Rating</th>\n",
       "      <th>Reviews</th>\n",
       "      <th>Size</th>\n",
       "      <th>Installs</th>\n",
       "      <th>Type</th>\n",
       "      <th>Price</th>\n",
       "      <th>Content Rating</th>\n",
       "      <th>Genres</th>\n",
       "      <th>Last Updated</th>\n",
       "      <th>Current Ver</th>\n",
       "      <th>Android Ver</th>\n",
       "    </tr>\n",
       "  </thead>\n",
       "  <tbody>\n",
       "    <tr>\n",
       "      <th>3132</th>\n",
       "      <td>I'm Rich - Trump Edition</td>\n",
       "      <td>LIFESTYLE</td>\n",
       "      <td>3.6</td>\n",
       "      <td>275</td>\n",
       "      <td>7.3</td>\n",
       "      <td>10000</td>\n",
       "      <td>Paid</td>\n",
       "      <td>400.0</td>\n",
       "      <td>Everyone</td>\n",
       "      <td>Lifestyle</td>\n",
       "      <td>May 3, 2018</td>\n",
       "      <td>1.0.1</td>\n",
       "      <td>4.1 and up</td>\n",
       "    </tr>\n",
       "  </tbody>\n",
       "</table>\n",
       "</div>"
      ],
      "text/plain": [
       "                           App   Category Rating  Reviews Size  Installs  \\\n",
       "3132  I'm Rich - Trump Edition  LIFESTYLE    3.6      275  7.3     10000   \n",
       "\n",
       "      Type  Price Content Rating     Genres Last Updated Current Ver  \\\n",
       "3132  Paid  400.0       Everyone  Lifestyle  May 3, 2018       1.0.1   \n",
       "\n",
       "     Android Ver  \n",
       "3132  4.1 and up  "
      ]
     },
     "execution_count": 19,
     "metadata": {},
     "output_type": "execute_result"
    }
   ],
   "source": [
    "# Checkin outlier value\n",
    "np.where(clean_copy[columns[7]]==400)\n",
    "clean_copy.loc[np.where(clean_copy[columns[x]]==400)]"
   ]
  },
  {
   "cell_type": "code",
   "execution_count": 20,
   "metadata": {},
   "outputs": [
    {
     "name": "stdout",
     "output_type": "stream",
     "text": [
      "Content Rating\n"
     ]
    },
    {
     "name": "stderr",
     "output_type": "stream",
     "text": [
      "C:\\Users\\lenovo\\AppData\\Local\\Temp\\ipykernel_9736\\558085060.py:8: SettingWithCopyWarning: \n",
      "A value is trying to be set on a copy of a slice from a DataFrame\n",
      "\n",
      "See the caveats in the documentation: https://pandas.pydata.org/pandas-docs/stable/user_guide/indexing.html#returning-a-view-versus-a-copy\n",
      "  clean_copy[columns[x]][i]=clean_copy[columns[x]][i].title()\n"
     ]
    },
    {
     "data": {
      "text/plain": [
       "Everyone           6619\n",
       "Teen                912\n",
       "Mature 17+          357\n",
       "Everyone 10+        305\n",
       "Adults Only 18+       3\n",
       "Unrated               1\n",
       "Name: Content Rating, dtype: int64"
      ]
     },
     "execution_count": 20,
     "metadata": {},
     "output_type": "execute_result"
    }
   ],
   "source": [
    "# Content Rating --done\n",
    "x=8\n",
    "print(columns[x])\n",
    "# print(clean_copy[columns[x]][0:20])\n",
    "clean_copy[columns[x]].value_counts()\n",
    "clean_copy[columns[x]]=clean_copy[columns[x]].astype(str)\n",
    "for i in range(len(clean_copy[columns[x]])):\n",
    "    clean_copy[columns[x]][i]=clean_copy[columns[x]][i].title()\n",
    "\n",
    "clean_copy[columns[x]].value_counts()\n"
   ]
  },
  {
   "cell_type": "code",
   "execution_count": 21,
   "metadata": {},
   "outputs": [
    {
     "name": "stdout",
     "output_type": "stream",
     "text": [
      "Genres\n",
      "7948\n"
     ]
    },
    {
     "name": "stderr",
     "output_type": "stream",
     "text": [
      "C:\\Users\\lenovo\\AppData\\Local\\Temp\\ipykernel_9736\\2955437188.py:9: SettingWithCopyWarning: \n",
      "A value is trying to be set on a copy of a slice from a DataFrame\n",
      "\n",
      "See the caveats in the documentation: https://pandas.pydata.org/pandas-docs/stable/user_guide/indexing.html#returning-a-view-versus-a-copy\n",
      "  clean_copy[columns[x]][index]=clean_copy['Category'][index]\n"
     ]
    },
    {
     "data": {
      "text/plain": [
       "App               Life Made WI-Fi Touchscreen Photo Frame\n",
       "Category                                            TOOLS\n",
       "Rating                                                1.9\n",
       "Reviews                                                19\n",
       "Size                                                  3.0\n",
       "Installs                                             1000\n",
       "Type                                                 Free\n",
       "Price                                                 0.0\n",
       "Content Rating                                   Everyone\n",
       "Genres                                              TOOLS\n",
       "Last Updated                            February 11, 2018\n",
       "Current Ver                                        1.0.19\n",
       "Android Ver                                    4.0 and up\n",
       "Name: 7948, dtype: object"
      ]
     },
     "execution_count": 21,
     "metadata": {},
     "output_type": "execute_result"
    }
   ],
   "source": [
    "# Genres --done\n",
    "x=9\n",
    "print(columns[x])\n",
    "clean_copy[columns[x]]=clean_copy[columns[x]].astype(str)\n",
    "index=clean_copy[clean_copy[columns[x]]==\"nan\"].index[0]\n",
    "print(index)\n",
    "clean_copy.loc[index]\n",
    "\n",
    "clean_copy[columns[x]][index]=clean_copy['Category'][index]\n",
    "clean_copy.loc[index]"
   ]
  },
  {
   "cell_type": "code",
   "execution_count": 22,
   "metadata": {},
   "outputs": [
    {
     "data": {
      "text/html": [
       "<div>\n",
       "<style scoped>\n",
       "    .dataframe tbody tr th:only-of-type {\n",
       "        vertical-align: middle;\n",
       "    }\n",
       "\n",
       "    .dataframe tbody tr th {\n",
       "        vertical-align: top;\n",
       "    }\n",
       "\n",
       "    .dataframe thead th {\n",
       "        text-align: right;\n",
       "    }\n",
       "</style>\n",
       "<table border=\"1\" class=\"dataframe\">\n",
       "  <thead>\n",
       "    <tr style=\"text-align: right;\">\n",
       "      <th></th>\n",
       "      <th>App</th>\n",
       "      <th>Category</th>\n",
       "      <th>Rating</th>\n",
       "      <th>Reviews</th>\n",
       "      <th>Size</th>\n",
       "      <th>Installs</th>\n",
       "      <th>Type</th>\n",
       "      <th>Price</th>\n",
       "      <th>Content Rating</th>\n",
       "      <th>Genres</th>\n",
       "    </tr>\n",
       "  </thead>\n",
       "  <tbody>\n",
       "    <tr>\n",
       "      <th>0</th>\n",
       "      <td>Photo Editor &amp; Candy Camera &amp; Grid &amp; ScrapBook</td>\n",
       "      <td>ART_AND_DESIGN</td>\n",
       "      <td>4.1</td>\n",
       "      <td>159</td>\n",
       "      <td>19.0</td>\n",
       "      <td>10000</td>\n",
       "      <td>Free</td>\n",
       "      <td>0.0</td>\n",
       "      <td>Everyone</td>\n",
       "      <td>Art &amp; Design</td>\n",
       "    </tr>\n",
       "    <tr>\n",
       "      <th>1</th>\n",
       "      <td>U Launcher Lite – FREE Live Cool Themes, Hide ...</td>\n",
       "      <td>ART_AND_DESIGN</td>\n",
       "      <td>4.7</td>\n",
       "      <td>87510</td>\n",
       "      <td>8.7</td>\n",
       "      <td>5000000</td>\n",
       "      <td>Free</td>\n",
       "      <td>0.0</td>\n",
       "      <td>Everyone</td>\n",
       "      <td>Art &amp; Design</td>\n",
       "    </tr>\n",
       "    <tr>\n",
       "      <th>2</th>\n",
       "      <td>Sketch - Draw &amp; Paint</td>\n",
       "      <td>ART_AND_DESIGN</td>\n",
       "      <td>4.5</td>\n",
       "      <td>215644</td>\n",
       "      <td>25.0</td>\n",
       "      <td>50000000</td>\n",
       "      <td>Free</td>\n",
       "      <td>0.0</td>\n",
       "      <td>Teen</td>\n",
       "      <td>Art &amp; Design</td>\n",
       "    </tr>\n",
       "    <tr>\n",
       "      <th>3</th>\n",
       "      <td>Pixel Draw - Number Art Coloring Book</td>\n",
       "      <td>ART_AND_DESIGN</td>\n",
       "      <td>4.3</td>\n",
       "      <td>967</td>\n",
       "      <td>2.8</td>\n",
       "      <td>100000</td>\n",
       "      <td>Free</td>\n",
       "      <td>0.0</td>\n",
       "      <td>Everyone</td>\n",
       "      <td>Art &amp; Design;Creativity</td>\n",
       "    </tr>\n",
       "    <tr>\n",
       "      <th>4</th>\n",
       "      <td>Paper flowers instructions</td>\n",
       "      <td>ART_AND_DESIGN</td>\n",
       "      <td>4.4</td>\n",
       "      <td>167</td>\n",
       "      <td>5.6</td>\n",
       "      <td>50000</td>\n",
       "      <td>Free</td>\n",
       "      <td>0.0</td>\n",
       "      <td>Everyone</td>\n",
       "      <td>Art &amp; Design</td>\n",
       "    </tr>\n",
       "    <tr>\n",
       "      <th>5</th>\n",
       "      <td>Smoke Effect Photo Maker - Smoke Editor</td>\n",
       "      <td>ART_AND_DESIGN</td>\n",
       "      <td>3.8</td>\n",
       "      <td>178</td>\n",
       "      <td>19.0</td>\n",
       "      <td>50000</td>\n",
       "      <td>Free</td>\n",
       "      <td>0.0</td>\n",
       "      <td>Everyone</td>\n",
       "      <td>Art &amp; Design</td>\n",
       "    </tr>\n",
       "    <tr>\n",
       "      <th>6</th>\n",
       "      <td>Infinite Painter</td>\n",
       "      <td>ART_AND_DESIGN</td>\n",
       "      <td>4.1</td>\n",
       "      <td>36815</td>\n",
       "      <td>29.0</td>\n",
       "      <td>1000000</td>\n",
       "      <td>Free</td>\n",
       "      <td>0.0</td>\n",
       "      <td>Everyone</td>\n",
       "      <td>Art &amp; Design</td>\n",
       "    </tr>\n",
       "    <tr>\n",
       "      <th>7</th>\n",
       "      <td>Garden Coloring Book</td>\n",
       "      <td>ART_AND_DESIGN</td>\n",
       "      <td>4.4</td>\n",
       "      <td>13791</td>\n",
       "      <td>33.0</td>\n",
       "      <td>1000000</td>\n",
       "      <td>Free</td>\n",
       "      <td>0.0</td>\n",
       "      <td>Everyone</td>\n",
       "      <td>Art &amp; Design</td>\n",
       "    </tr>\n",
       "    <tr>\n",
       "      <th>8</th>\n",
       "      <td>Kids Paint Free - Drawing Fun</td>\n",
       "      <td>ART_AND_DESIGN</td>\n",
       "      <td>4.7</td>\n",
       "      <td>121</td>\n",
       "      <td>3.1</td>\n",
       "      <td>10000</td>\n",
       "      <td>Free</td>\n",
       "      <td>0.0</td>\n",
       "      <td>Everyone</td>\n",
       "      <td>Art &amp; Design;Creativity</td>\n",
       "    </tr>\n",
       "    <tr>\n",
       "      <th>9</th>\n",
       "      <td>Text on Photo - Fonteee</td>\n",
       "      <td>ART_AND_DESIGN</td>\n",
       "      <td>4.4</td>\n",
       "      <td>13880</td>\n",
       "      <td>28.0</td>\n",
       "      <td>1000000</td>\n",
       "      <td>Free</td>\n",
       "      <td>0.0</td>\n",
       "      <td>Everyone</td>\n",
       "      <td>Art &amp; Design</td>\n",
       "    </tr>\n",
       "    <tr>\n",
       "      <th>10</th>\n",
       "      <td>Name Art Photo Editor - Focus n Filters</td>\n",
       "      <td>ART_AND_DESIGN</td>\n",
       "      <td>4.4</td>\n",
       "      <td>8788</td>\n",
       "      <td>12.0</td>\n",
       "      <td>1000000</td>\n",
       "      <td>Free</td>\n",
       "      <td>0.0</td>\n",
       "      <td>Everyone</td>\n",
       "      <td>Art &amp; Design</td>\n",
       "    </tr>\n",
       "    <tr>\n",
       "      <th>11</th>\n",
       "      <td>Tattoo Name On My Photo Editor</td>\n",
       "      <td>ART_AND_DESIGN</td>\n",
       "      <td>4.2</td>\n",
       "      <td>44829</td>\n",
       "      <td>20.0</td>\n",
       "      <td>10000000</td>\n",
       "      <td>Free</td>\n",
       "      <td>0.0</td>\n",
       "      <td>Teen</td>\n",
       "      <td>Art &amp; Design</td>\n",
       "    </tr>\n",
       "    <tr>\n",
       "      <th>12</th>\n",
       "      <td>Mandala Coloring Book</td>\n",
       "      <td>ART_AND_DESIGN</td>\n",
       "      <td>4.6</td>\n",
       "      <td>4326</td>\n",
       "      <td>21.0</td>\n",
       "      <td>100000</td>\n",
       "      <td>Free</td>\n",
       "      <td>0.0</td>\n",
       "      <td>Everyone</td>\n",
       "      <td>Art &amp; Design</td>\n",
       "    </tr>\n",
       "    <tr>\n",
       "      <th>13</th>\n",
       "      <td>3D Color Pixel by Number - Sandbox Art Coloring</td>\n",
       "      <td>ART_AND_DESIGN</td>\n",
       "      <td>4.4</td>\n",
       "      <td>1518</td>\n",
       "      <td>37.0</td>\n",
       "      <td>100000</td>\n",
       "      <td>Free</td>\n",
       "      <td>0.0</td>\n",
       "      <td>Everyone</td>\n",
       "      <td>Art &amp; Design</td>\n",
       "    </tr>\n",
       "    <tr>\n",
       "      <th>14</th>\n",
       "      <td>Learn To Draw Kawaii Characters</td>\n",
       "      <td>ART_AND_DESIGN</td>\n",
       "      <td>3.2</td>\n",
       "      <td>55</td>\n",
       "      <td>2.7</td>\n",
       "      <td>5000</td>\n",
       "      <td>Free</td>\n",
       "      <td>0.0</td>\n",
       "      <td>Everyone</td>\n",
       "      <td>Art &amp; Design</td>\n",
       "    </tr>\n",
       "    <tr>\n",
       "      <th>15</th>\n",
       "      <td>Photo Designer - Write your name with shapes</td>\n",
       "      <td>ART_AND_DESIGN</td>\n",
       "      <td>4.7</td>\n",
       "      <td>3632</td>\n",
       "      <td>5.5</td>\n",
       "      <td>500000</td>\n",
       "      <td>Free</td>\n",
       "      <td>0.0</td>\n",
       "      <td>Everyone</td>\n",
       "      <td>Art &amp; Design</td>\n",
       "    </tr>\n",
       "    <tr>\n",
       "      <th>16</th>\n",
       "      <td>350 Diy Room Decor Ideas</td>\n",
       "      <td>ART_AND_DESIGN</td>\n",
       "      <td>4.5</td>\n",
       "      <td>27</td>\n",
       "      <td>17.0</td>\n",
       "      <td>10000</td>\n",
       "      <td>Free</td>\n",
       "      <td>0.0</td>\n",
       "      <td>Everyone</td>\n",
       "      <td>Art &amp; Design</td>\n",
       "    </tr>\n",
       "    <tr>\n",
       "      <th>17</th>\n",
       "      <td>FlipaClip - Cartoon animation</td>\n",
       "      <td>ART_AND_DESIGN</td>\n",
       "      <td>4.3</td>\n",
       "      <td>194216</td>\n",
       "      <td>39.0</td>\n",
       "      <td>5000000</td>\n",
       "      <td>Free</td>\n",
       "      <td>0.0</td>\n",
       "      <td>Everyone</td>\n",
       "      <td>Art &amp; Design</td>\n",
       "    </tr>\n",
       "    <tr>\n",
       "      <th>18</th>\n",
       "      <td>ibis Paint X</td>\n",
       "      <td>ART_AND_DESIGN</td>\n",
       "      <td>4.6</td>\n",
       "      <td>224399</td>\n",
       "      <td>31.0</td>\n",
       "      <td>10000000</td>\n",
       "      <td>Free</td>\n",
       "      <td>0.0</td>\n",
       "      <td>Everyone</td>\n",
       "      <td>Art &amp; Design</td>\n",
       "    </tr>\n",
       "    <tr>\n",
       "      <th>19</th>\n",
       "      <td>Logo Maker - Small Business</td>\n",
       "      <td>ART_AND_DESIGN</td>\n",
       "      <td>4.0</td>\n",
       "      <td>450</td>\n",
       "      <td>14.0</td>\n",
       "      <td>100000</td>\n",
       "      <td>Free</td>\n",
       "      <td>0.0</td>\n",
       "      <td>Everyone</td>\n",
       "      <td>Art &amp; Design</td>\n",
       "    </tr>\n",
       "  </tbody>\n",
       "</table>\n",
       "</div>"
      ],
      "text/plain": [
       "                                                  App        Category Rating  \\\n",
       "0      Photo Editor & Candy Camera & Grid & ScrapBook  ART_AND_DESIGN    4.1   \n",
       "1   U Launcher Lite – FREE Live Cool Themes, Hide ...  ART_AND_DESIGN    4.7   \n",
       "2                               Sketch - Draw & Paint  ART_AND_DESIGN    4.5   \n",
       "3               Pixel Draw - Number Art Coloring Book  ART_AND_DESIGN    4.3   \n",
       "4                          Paper flowers instructions  ART_AND_DESIGN    4.4   \n",
       "5             Smoke Effect Photo Maker - Smoke Editor  ART_AND_DESIGN    3.8   \n",
       "6                                    Infinite Painter  ART_AND_DESIGN    4.1   \n",
       "7                                Garden Coloring Book  ART_AND_DESIGN    4.4   \n",
       "8                       Kids Paint Free - Drawing Fun  ART_AND_DESIGN    4.7   \n",
       "9                             Text on Photo - Fonteee  ART_AND_DESIGN    4.4   \n",
       "10            Name Art Photo Editor - Focus n Filters  ART_AND_DESIGN    4.4   \n",
       "11                     Tattoo Name On My Photo Editor  ART_AND_DESIGN    4.2   \n",
       "12                              Mandala Coloring Book  ART_AND_DESIGN    4.6   \n",
       "13    3D Color Pixel by Number - Sandbox Art Coloring  ART_AND_DESIGN    4.4   \n",
       "14                    Learn To Draw Kawaii Characters  ART_AND_DESIGN    3.2   \n",
       "15       Photo Designer - Write your name with shapes  ART_AND_DESIGN    4.7   \n",
       "16                           350 Diy Room Decor Ideas  ART_AND_DESIGN    4.5   \n",
       "17                      FlipaClip - Cartoon animation  ART_AND_DESIGN    4.3   \n",
       "18                                       ibis Paint X  ART_AND_DESIGN    4.6   \n",
       "19                        Logo Maker - Small Business  ART_AND_DESIGN    4.0   \n",
       "\n",
       "    Reviews  Size  Installs  Type  Price Content Rating  \\\n",
       "0       159  19.0     10000  Free    0.0       Everyone   \n",
       "1     87510   8.7   5000000  Free    0.0       Everyone   \n",
       "2    215644  25.0  50000000  Free    0.0           Teen   \n",
       "3       967   2.8    100000  Free    0.0       Everyone   \n",
       "4       167   5.6     50000  Free    0.0       Everyone   \n",
       "5       178  19.0     50000  Free    0.0       Everyone   \n",
       "6     36815  29.0   1000000  Free    0.0       Everyone   \n",
       "7     13791  33.0   1000000  Free    0.0       Everyone   \n",
       "8       121   3.1     10000  Free    0.0       Everyone   \n",
       "9     13880  28.0   1000000  Free    0.0       Everyone   \n",
       "10     8788  12.0   1000000  Free    0.0       Everyone   \n",
       "11    44829  20.0  10000000  Free    0.0           Teen   \n",
       "12     4326  21.0    100000  Free    0.0       Everyone   \n",
       "13     1518  37.0    100000  Free    0.0       Everyone   \n",
       "14       55   2.7      5000  Free    0.0       Everyone   \n",
       "15     3632   5.5    500000  Free    0.0       Everyone   \n",
       "16       27  17.0     10000  Free    0.0       Everyone   \n",
       "17   194216  39.0   5000000  Free    0.0       Everyone   \n",
       "18   224399  31.0  10000000  Free    0.0       Everyone   \n",
       "19      450  14.0    100000  Free    0.0       Everyone   \n",
       "\n",
       "                     Genres  \n",
       "0              Art & Design  \n",
       "1              Art & Design  \n",
       "2              Art & Design  \n",
       "3   Art & Design;Creativity  \n",
       "4              Art & Design  \n",
       "5              Art & Design  \n",
       "6              Art & Design  \n",
       "7              Art & Design  \n",
       "8   Art & Design;Creativity  \n",
       "9              Art & Design  \n",
       "10             Art & Design  \n",
       "11             Art & Design  \n",
       "12             Art & Design  \n",
       "13             Art & Design  \n",
       "14             Art & Design  \n",
       "15             Art & Design  \n",
       "16             Art & Design  \n",
       "17             Art & Design  \n",
       "18             Art & Design  \n",
       "19             Art & Design  "
      ]
     },
     "execution_count": 22,
     "metadata": {},
     "output_type": "execute_result"
    }
   ],
   "source": [
    "# Deleting Android Ver, Current Ver, Last Updated columns --done\n",
    "clean_copy.drop('Android Ver', inplace=True, axis=1)\n",
    "clean_copy.drop('Current Ver', inplace=True, axis=1)\n",
    "clean_copy.drop('Last Updated', inplace=True, axis=1)\n",
    "clean_copy.head(20)"
   ]
  },
  {
   "cell_type": "code",
   "execution_count": 23,
   "metadata": {},
   "outputs": [
    {
     "name": "stdout",
     "output_type": "stream",
     "text": [
      "False    8197\n",
      "Name: App, dtype: int64\n",
      "False    8197\n",
      "Name: Category, dtype: int64\n",
      "False    8197\n",
      "Name: Rating, dtype: int64\n",
      "False    8197\n",
      "Name: Reviews, dtype: int64\n",
      "False    8197\n",
      "Name: Size, dtype: int64\n",
      "False    8197\n",
      "Name: Installs, dtype: int64\n",
      "False    8197\n",
      "Name: Type, dtype: int64\n",
      "False    8197\n",
      "Name: Price, dtype: int64\n",
      "False    8197\n",
      "Name: Content Rating, dtype: int64\n",
      "False    8197\n",
      "Name: Genres, dtype: int64\n"
     ]
    },
    {
     "data": {
      "text/plain": [
       "(8197, 10)"
      ]
     },
     "execution_count": 23,
     "metadata": {},
     "output_type": "execute_result"
    }
   ],
   "source": [
    "for i in range(10):\n",
    "    print(pd.isna(clean_copy[columns[i]]).value_counts())\n",
    "clean_copy.shape"
   ]
  },
  {
   "cell_type": "code",
   "execution_count": 24,
   "metadata": {},
   "outputs": [],
   "source": [
    "clean_copy.to_csv(\"../Week_1/onur_googleplaystore_cleaned.csv\",\",\")"
   ]
  }
 ],
 "metadata": {
  "kernelspec": {
   "display_name": "Python 3",
   "language": "python",
   "name": "python3"
  },
  "language_info": {
   "codemirror_mode": {
    "name": "ipython",
    "version": 3
   },
   "file_extension": ".py",
   "mimetype": "text/x-python",
   "name": "python",
   "nbconvert_exporter": "python",
   "pygments_lexer": "ipython3",
   "version": "3.11.2"
  },
  "orig_nbformat": 4,
  "vscode": {
   "interpreter": {
    "hash": "6ee369a2afd4a614a1e5aa9ef2e438b62b9081287575b70d0009e3bf7c2277f4"
   }
  }
 },
 "nbformat": 4,
 "nbformat_minor": 2
}
