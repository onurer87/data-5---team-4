{
 "cells": [
  {
   "cell_type": "code",
   "execution_count": null,
   "metadata": {},
   "outputs": [],
   "source": [
    "import numpy as np\n",
    "import pandas as pd\n",
    "\n",
    "df_app_data= pd.read_csv(\"../Data/googleplaystore.csv\") #Read the Data\n",
    "columns=list(df_app_data.columns) #get the data keys\n",
    "clean_copy=df_app_data.copy() #create a clean copy\n",
    "clean_copy.shape"
   ]
  },
  {
   "cell_type": "code",
   "execution_count": 143,
   "metadata": {},
   "outputs": [],
   "source": [
    "def duplicate_clean(df,kept='last',column=None):\n",
    "    if column==None:\n",
    "        duplicate=df[df.duplicated(keep=kept)].index\n",
    "    else:\n",
    "        duplicate=df[df[column].duplicated(keep=kept)].index\n",
    "    return df.drop(duplicate, inplace=True),"
   ]
  },
  {
   "cell_type": "code",
   "execution_count": null,
   "metadata": {},
   "outputs": [],
   "source": [
    "duplicate_clean(clean_copy)\n",
    "clean_copy.shape"
   ]
  },
  {
   "cell_type": "code",
   "execution_count": null,
   "metadata": {},
   "outputs": [],
   "source": [
    "clean_copy.head(50)"
   ]
  },
  {
   "cell_type": "code",
   "execution_count": null,
   "metadata": {},
   "outputs": [],
   "source": [
    "#For Column \"App\"\n",
    "x=0\n",
    "print(columns[x])\n",
    "clean_copy[columns[x]]=clean_copy[columns[x]].astype(str)\n",
    "\n",
    "type(clean_copy[columns[x]][5])\n",
    "clean_copy[columns[x]].describe()\n"
   ]
  },
  {
   "cell_type": "code",
   "execution_count": null,
   "metadata": {},
   "outputs": [],
   "source": [
    "dupl_dict=dict(clean_copy['App'].value_counts())\n",
    "pop_key=[]\n",
    "for key in dupl_dict.keys():\n",
    "    \n",
    "    if dupl_dict[key]==1:\n",
    "        pop_key.append(key)\n",
    "    else:\n",
    "        continue\n",
    "for key in pop_key:\n",
    "    dupl_dict.pop(key)\n",
    "\n",
    "for appp in dupl_dict.keys():\n",
    "    indexes=clean_copy[clean_copy['App']==appp].index\n",
    "    max_revs=clean_copy[clean_copy['App']==appp]['Reviews'].max()\n",
    "\n",
    "    for i in indexes:\n",
    "        if clean_copy['Reviews'][i]!=max_revs:\n",
    "            clean_copy.drop(i, inplace=True)\n",
    "\n",
    "duplicate_clean(clean_copy,column='App')\n",
    "\n",
    "clean_copy.shape\n"
   ]
  },
  {
   "cell_type": "code",
   "execution_count": null,
   "metadata": {},
   "outputs": [],
   "source": [
    "clean_copy[clean_copy['App']==\"Helix Jump\"]['Reviews']==df_app_data[df_app_data['App']==\"Helix Jump\"]['Reviews'].max()"
   ]
  },
  {
   "cell_type": "code",
   "execution_count": null,
   "metadata": {},
   "outputs": [],
   "source": [
    "clean_copy['App'].value_counts()"
   ]
  },
  {
   "cell_type": "code",
   "execution_count": null,
   "metadata": {},
   "outputs": [],
   "source": [
    "clean_copy[clean_copy['App']==\"osmino Wi-Fi: free WiFi\"]"
   ]
  },
  {
   "cell_type": "code",
   "execution_count": null,
   "metadata": {},
   "outputs": [],
   "source": [
    "clean_copy[clean_copy['App']==\"Bubble Shooter\"]['Reviews']==df_app_data[df_app_data['App']==\"Bubble Shooter\"]['Reviews'].max()"
   ]
  },
  {
   "cell_type": "code",
   "execution_count": null,
   "metadata": {},
   "outputs": [],
   "source": [
    "#for \"Category\"\n",
    "x=1\n",
    "print(columns[x])\n",
    "# print(np.unique(clean_copy[columns[x]]))\n",
    "ind=clean_copy[clean_copy[columns[x]]==\"1.9\"].index[0]\n",
    "# clean_copy.loc[ind]\n",
    "\n",
    "for i in range(len(columns)-1,0,-1):\n",
    "    if i!=1:\n",
    "        clean_copy[columns[i]][ind]=clean_copy[columns[i-1]][ind]\n",
    "    else:\n",
    "        if clean_copy[columns[i]][ind-1]==clean_copy[columns[i-1]][ind+1]:\n",
    "            clean_copy[columns[i]][ind]=clean_copy[columns[i-1]][ind-1]\n",
    "        else: \n",
    "            clean_copy[columns[i]][ind]=clean_copy[columns[i]][ind+1]\n",
    "\n",
    "# # clean_copy.loc[10472]\n",
    "\n",
    "clean_copy[columns[x]]=clean_copy[columns[x]].astype(str)\n",
    "\n",
    "# # type(clean_copy[columns[x]][5])\n",
    "# # print(clean_copy.loc[10472])\n",
    "# clean_copy[columns[x]].describe()"
   ]
  },
  {
   "cell_type": "code",
   "execution_count": null,
   "metadata": {},
   "outputs": [],
   "source": [
    "clean_copy['Category'].value_counts()"
   ]
  },
  {
   "cell_type": "code",
   "execution_count": null,
   "metadata": {},
   "outputs": [],
   "source": [
    "#-------\"Rating\"\n",
    "x=2\n",
    "print(columns[x])\n",
    "clean_copy[columns[x]]=clean_copy[columns[x]].astype(float)\n",
    "\n",
    "type(clean_copy[columns[x]][5])\n",
    "clean_copy[columns[x]].describe()\n",
    "\n",
    "categories=np.unique(clean_copy[\"Category\"])\n",
    "# print(categories)\n",
    "\n",
    "category_ratings={}\n",
    "\n",
    "for category in categories:\n",
    "    category_ratings[category]=[]\n",
    "# print(category_ratings)\n",
    "\n",
    "for i in range(len(clean_copy[\"Rating\"])):\n",
    "    if np.isnan(clean_copy[\"Rating\"][i]):\n",
    "        pass\n",
    "    else:\n",
    "        category_ratings[clean_copy[\"Category\"][i]]=category_ratings[clean_copy[\"Category\"][i]] + [clean_copy[\"Rating\"][i]]\n",
    "\n",
    "category_averages={}\n",
    "\n",
    "for category in categories:\n",
    "    category_averages[category]=round(np.mean(category_ratings[category]),2)\n",
    "\n",
    "nan_locs=np.where(np.isnan(clean_copy[\"Rating\"]))\n",
    "\n",
    "# print(np.size(nan_locs))\n",
    "\n",
    "\n",
    "for i in range(np.size(nan_locs)):\n",
    "    d=nan_locs[0][i]\n",
    "    nan_loc_category=clean_copy[\"Category\"][d]\n",
    "    clean_copy[\"Rating\"][d]=category_averages[nan_loc_category]\n",
    "    \n",
    "\n",
    "# print(category_averages)\n",
    "\n",
    "np.unique(clean_copy[\"Rating\"])\n",
    "\n"
   ]
  },
  {
   "cell_type": "code",
   "execution_count": null,
   "metadata": {},
   "outputs": [],
   "source": [
    "#Reviews\n",
    "x=3\n",
    "print(columns[x])\n",
    "clean_copy[\"Reviews\"][10472]=19\n",
    "clean_copy[columns[x]]=clean_copy[columns[x]].astype(int)\n",
    "clean_copy[columns[x]].describe()\n",
    "\n",
    "clean_copy.loc[10472]\n",
    "\n",
    "# clean_copy[\"Reviews\"][10472]=19\n",
    "\n",
    "# clean_copy[\"Reviews\"].loc[10472]"
   ]
  },
  {
   "cell_type": "code",
   "execution_count": null,
   "metadata": {},
   "outputs": [],
   "source": [
    "#Size\n",
    "x=4\n",
    "print(columns[x])\n",
    "clean_copy[\"Size\"][0:15]\n",
    "# np.isnan(clean_copy[\"Size\"])\n",
    "pd.isnull(clean_copy['Size']).describe()\n",
    "clean_copy[columns[x]]=clean_copy[columns[x]].astype(str)\n",
    "\n",
    "# new_size=clean_copy['Size'].\n",
    "# print(new_size)\n",
    "\n",
    "for i in range(len(clean_copy['Size'])):\n",
    "    # print(clean_copy['Size'][i])\n",
    "    # print(clean_copy['Size'][i].count('k'))\n",
    "    if clean_copy['Size'][i].count('M')==1:\n",
    "        clean_copy['Size'][i]=clean_copy['Size'][i].replace('M',\"\")\n",
    "        clean_copy['Size'][i]=float(clean_copy['Size'][i])\n",
    "    elif clean_copy['Size'][i].count('k')==1:\n",
    "        clean_copy['Size'][i]=clean_copy['Size'][i].replace('k',\"\")\n",
    "        clean_copy['Size'][i]=float(clean_copy['Size'][i])/1000\n",
    "    elif clean_copy['Size'][i]==\"Varies with device\":\n",
    "        clean_copy['Size'][i]=float(-99.99)\n",
    "    else:\n",
    "        pass\n",
    "clean_copy[columns[x]]=clean_copy[columns[x]].astype(float)\n",
    "clean_copy['Size'].describe()\n",
    "# np.unique(clean_copy['Size'])"
   ]
  },
  {
   "cell_type": "code",
   "execution_count": null,
   "metadata": {},
   "outputs": [],
   "source": [
    "clean_copy.head(20)"
   ]
  },
  {
   "cell_type": "code",
   "execution_count": null,
   "metadata": {},
   "outputs": [],
   "source": [
    "x=5\n",
    "print(columns[x])\n",
    "clean_copy[columns[x]][0:20]\n",
    "np.unique(clean_copy[columns[x]])\n",
    "index=np.where(clean_copy[columns[x]]==\"0+\")[0]\n",
    "\n",
    "print(index)\n",
    "\n",
    "for i in index:\n",
    "    clean_copy[columns[x]][i]=1\n",
    "clean_copy.loc[4465]\n",
    "\n"
   ]
  },
  {
   "cell_type": "code",
   "execution_count": null,
   "metadata": {},
   "outputs": [],
   "source": [
    "x=5\n",
    "print(x)\n",
    "clean_copy[columns[x]]=clean_copy[columns[x]].astype(str)\n",
    "for i in range(len(clean_copy[columns[x]])):\n",
    "    if clean_copy[columns[x]][i].count('+')==1:\n",
    "        clean_copy[columns[x]][i]=clean_copy[columns[x]][i].replace('+',\"\")\n",
    "    else:\n",
    "        pass\n",
    "    if clean_copy[columns[x]][i].count(',')>=1:\n",
    "        clean_copy[columns[x]][i]=clean_copy[columns[x]][i].replace(',',\"\")\n",
    "    else:\n",
    "        pass\n",
    "\n",
    "clean_copy[columns[x]]=clean_copy[columns[x]].astype(int)\n",
    "clean_copy[columns[x]].describe()\n",
    "\n",
    "# clean_copy[columns[x]]"
   ]
  },
  {
   "cell_type": "code",
   "execution_count": null,
   "metadata": {},
   "outputs": [],
   "source": [
    "x=6\n",
    "print(columns[x])\n",
    "print(clean_copy[columns[x]][0:20])\n",
    "clean_copy[columns[x]].describe()\n",
    "clean_copy[columns[x]]=clean_copy[columns[x]].astype(str)\n",
    "np.unique(clean_copy[columns[x]])\n",
    "np.where(clean_copy[columns[x]]==\"nan\")\n",
    "clean_copy.loc[9148]\n",
    "clean_copy[columns[x]][9148]=\"Free\"\n",
    "clean_copy.loc[9148]\n",
    "clean_copy[columns[x]].describe()"
   ]
  },
  {
   "cell_type": "code",
   "execution_count": null,
   "metadata": {},
   "outputs": [],
   "source": [
    "x=7\n",
    "print(columns[x])\n",
    "print(clean_copy[columns[x]][0:20])\n",
    "clean_copy[columns[x]].describe()\n",
    "clean_copy[columns[x]]=clean_copy[columns[x]].astype(str)\n",
    "for i in range(len(clean_copy[columns[x]])):\n",
    "    if clean_copy[columns[x]][i].count('$')>=1:\n",
    "        clean_copy[columns[x]][i]=clean_copy[columns[x]][i].replace('$',\"\")\n",
    "    else:\n",
    "        pass\n",
    "clean_copy[columns[x]]=clean_copy[columns[x]].astype(float)\n",
    "clean_copy[columns[x]].describe()\n"
   ]
  },
  {
   "cell_type": "code",
   "execution_count": null,
   "metadata": {},
   "outputs": [],
   "source": [
    "np.where(clean_copy[columns[x]]==400)\n",
    "clean_copy.loc[4367]"
   ]
  },
  {
   "cell_type": "code",
   "execution_count": null,
   "metadata": {},
   "outputs": [],
   "source": [
    "x=8\n",
    "print(columns[x])\n",
    "print(clean_copy[columns[x]][0:20])\n",
    "clean_copy[columns[x]].describe()\n",
    "np.unique(clean_copy[columns[x]])\n",
    "for i in range(len(clean_copy[columns[x]])):\n",
    "    clean_copy[columns[x]][i]=clean_copy[columns[x]][i].title()\n",
    "\n",
    "clean_copy[columns[x]]=clean_copy[columns[x]].astype(str)\n",
    "clean_copy[columns[x]].describe()\n",
    "np.unique(clean_copy[columns[x]])  \n",
    "# type(clean_copy[columns[x]][35])"
   ]
  },
  {
   "cell_type": "code",
   "execution_count": null,
   "metadata": {},
   "outputs": [],
   "source": [
    "x=9\n",
    "print(columns[x])\n",
    "print(clean_copy[columns[x]][0:20])\n",
    "clean_copy[columns[x]].describe()\n",
    "clean_copy[columns[x]]=clean_copy[columns[x]].astype(str)\n",
    "index=np.where(clean_copy[columns[x]]==\"nan\")[0]\n",
    "print(index)\n",
    "clean_copy.loc[index[0]]\n",
    "# np.unique(clean_copy[columns[x]])\n",
    "clean_copy[columns[x]][index[0]]=clean_copy['Category'][index[0]]\n",
    "clean_copy.loc[index[0]]"
   ]
  },
  {
   "cell_type": "code",
   "execution_count": null,
   "metadata": {},
   "outputs": [],
   "source": [
    "\n",
    "\n",
    "\n"
   ]
  },
  {
   "cell_type": "code",
   "execution_count": null,
   "metadata": {},
   "outputs": [],
   "source": [
    "clean_copy.shape\n"
   ]
  },
  {
   "cell_type": "code",
   "execution_count": null,
   "metadata": {},
   "outputs": [],
   "source": [
    "clean_copy.drop('Android Ver', inplace=True, axis=1)\n",
    "clean_copy.head(20)"
   ]
  },
  {
   "cell_type": "code",
   "execution_count": null,
   "metadata": {},
   "outputs": [],
   "source": [
    "clean_copy['App'].filter(like='FREE$', axis=1)"
   ]
  },
  {
   "cell_type": "code",
   "execution_count": null,
   "metadata": {},
   "outputs": [],
   "source": [
    "index=np.where(clean_copy['App']=='Wunderlist: To-Do List & Tasks')[0]\n",
    "print(index)\n",
    "print(clean_copy.loc[index[0]])\n",
    "print(clean_copy.loc[index[1]])\n",
    "print(clean_copy.loc[index[2]])"
   ]
  },
  {
   "cell_type": "code",
   "execution_count": null,
   "metadata": {},
   "outputs": [],
   "source": [
    "np.where(google_app_data[\"Category\"]=='1.9')\n",
    "print(google_app_data[\"Category\"][10472])\n",
    "columns=list(google_app_data.keys())\n",
    "print(columns)\n",
    "print(google_app_data[columns[-1]][10472])\n",
    "print(google_app_data[columns[-2]][10472])\n",
    "\n",
    "google_dict=google_app_data.to_dict('records')\n",
    "\n",
    "google_dict[\"Category\"][10472]\n",
    "\n",
    "for i in range(len(columns)-1,0,-1):\n",
    "    if i!=1:\n",
    "        google_dict[columns[i]][10472]=google_dict[columns[i-1]][10472]\n",
    "    else:\n",
    "        if google_dict[columns[i]][10471]==google_dict[columns[i-1]][10473]:\n",
    "            print(google_dict[columns[i]][10471],google_dict[columns[i-1]][10473])\n",
    "\n",
    "google_dict[\"Category\"][10472]\n",
    "\n"
   ]
  },
  {
   "cell_type": "code",
   "execution_count": null,
   "metadata": {},
   "outputs": [],
   "source": [
    "columns=list(google_app_data.keys())\n",
    "google_dict=google_app_data.set_index('App').to_dict()\n",
    "print(np.unique(google_dict[\"Category\"]))\n",
    "for i in range(len(columns)-1,0,-1):\n",
    "    if i!=1:\n",
    "        google_dict[columns[i]][10472]=google_dict[columns[i-1]][10472]\n",
    "    else:\n",
    "        if google_dict[columns[i]][10471]==google_dict[columns[i-1]][10473]:\n",
    "            print(google_dict[columns[i]][10471],google_dict[columns[i-1]][10473])\n",
    "        else: \n",
    "            google_dict[columns[i]][10472]==google_dict[columns[i]][10473]\n",
    "\n",
    "print(google_dict[10472][\"Category\"])"
   ]
  },
  {
   "cell_type": "code",
   "execution_count": null,
   "metadata": {},
   "outputs": [],
   "source": [
    "print(np.unique(google_dict[0:]))\n",
    "\n",
    "np.where(google_dict[\"Rating\"]==\"19\")"
   ]
  },
  {
   "cell_type": "code",
   "execution_count": null,
   "metadata": {},
   "outputs": [],
   "source": [
    "for column in columns:\n",
    "    print(google_dict[column][10472])"
   ]
  },
  {
   "cell_type": "code",
   "execution_count": null,
   "metadata": {},
   "outputs": [],
   "source": [
    "# google_dict=google_app_data.to_dict('list')\n",
    "\n",
    "# # print(google_dict[\"Category\"])\n",
    "\n",
    "# np_google_dict=np.array(google_dict[\"Category\"])\n",
    "\n",
    "# np.unique(np_google_dict)\n",
    "\n",
    "# row=np.where(np_google_dict==\"1.9\")\n",
    "# print(row)"
   ]
  },
  {
   "cell_type": "code",
   "execution_count": null,
   "metadata": {},
   "outputs": [],
   "source": [
    "for i in range(len(columns)-1,0,-1):\n",
    "    if i!=1:\n",
    "        np_google_dict[columns[i]][row]=np_google_dict[columns[i-1]][row]\n",
    "    else:\n",
    "        if np_google_dict[columns[i]][row-1]==np_google_dict[columns[i-1]][row+1]:\n",
    "            print(np_google_dict[row-1],np_google_dict[row+1])\n",
    "        else:\n",
    "            np_google_dict[columns[i]][row]=np_google_dict[columns[i]][row+1]\n",
    "\n",
    "print(np.unique(np_google_dict))"
   ]
  },
  {
   "cell_type": "code",
   "execution_count": null,
   "metadata": {},
   "outputs": [],
   "source": [
    "google_dict[\"Category\"][10472]=google_dict[\"Category\"][10473]\n",
    "\n",
    "google_dict[\"Category\"][10472]\n",
    "\n",
    "np.unique(google_dict[\"Category\"])\n",
    "\n",
    "# np_google_data=np.array(google_app_data)\n",
    "# category=np_google_data[:,1]\n",
    "# print(category)\n",
    "# np.unique(category)\n",
    "\n",
    "# np.where(category==\"1.9\")\n",
    "\n",
    "# print(np_google_data)"
   ]
  },
  {
   "cell_type": "code",
   "execution_count": null,
   "metadata": {},
   "outputs": [],
   "source": [
    "def cu_category(dataframe):\n",
    "    clean_category=dataframe[\"Category\"]\n",
    "    for i in range(0,len(clean_category)):\n",
    "        if clean_category[i] \n",
    "\n",
    "\n",
    "def cu_rating(dataframe):\n",
    "    clean_ratings= dataframe[\"Rating\"]\n",
    "    for i in range(0,len(clean_ratings)):\n",
    "        if clean_ratings[i] == \"nan\":\n",
    "            clean_ratings[i]== 0\n",
    "        else:\n",
    "            pass\n",
    "        \n",
    "\n"
   ]
  },
  {
   "cell_type": "code",
   "execution_count": null,
   "metadata": {},
   "outputs": [],
   "source": [
    "clean_copy.to_csv(\"../Week_1/onur_googleplaystore_cleaned.csv\",\",\")"
   ]
  }
 ],
 "metadata": {
  "kernelspec": {
   "display_name": "Python 3",
   "language": "python",
   "name": "python3"
  },
  "language_info": {
   "codemirror_mode": {
    "name": "ipython",
    "version": 3
   },
   "file_extension": ".py",
   "mimetype": "text/x-python",
   "name": "python",
   "nbconvert_exporter": "python",
   "pygments_lexer": "ipython3",
   "version": "3.11.2"
  },
  "orig_nbformat": 4,
  "vscode": {
   "interpreter": {
    "hash": "6ee369a2afd4a614a1e5aa9ef2e438b62b9081287575b70d0009e3bf7c2277f4"
   }
  }
 },
 "nbformat": 4,
 "nbformat_minor": 2
}
