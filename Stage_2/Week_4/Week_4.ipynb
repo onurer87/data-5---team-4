{
 "cells": [
  {
   "cell_type": "code",
   "execution_count": null,
   "metadata": {},
   "outputs": [],
   "source": [
    "import pandas as pd\n",
    "import numpy as np\n",
    "import string as st\n",
    "from afinn import Afinn\n",
    "# import matplotlib.pylab as plt\n",
    "# import seaborn as sns\n",
    "# plt.style.use('ggplot')\n",
    "pd.set_option('display.max_columns', 50)\n",
    "pd.set_option('display.max_rows',800)\n",
    "df_rev=pd.read_csv('../Data/clean_googleplaystore_user_reviews.csv')\n"
   ]
  },
  {
   "cell_type": "code",
   "execution_count": null,
   "metadata": {},
   "outputs": [],
   "source": [
    "df_rev.info()"
   ]
  },
  {
   "attachments": {},
   "cell_type": "markdown",
   "metadata": {},
   "source": [
    "TASK_2 - AFINN METHOD (VAIBHAV)"
   ]
  },
  {
   "cell_type": "code",
   "execution_count": null,
   "metadata": {},
   "outputs": [],
   "source": [
    "af = Afinn()\n",
    "\n",
    "# Compute sentiment scores and categories\n",
    "sentiment_scores = [af.score(str(text)) for text in df_rev.Translated_Review]\n",
    "sentiment_category = ['positive' if score > 0 else 'negative' if score < 0 else 'neutral' for score in sentiment_scores]\n",
    "df = pd.DataFrame([sentiment_scores, sentiment_category]).T # .T: swap rows and cols\n",
    "df.columns = ['AFINN_sentiment_score', 'AFINN_sentiment_category']\n",
    "df_rev  = pd.concat([df_rev, df], axis=1)\n",
    "df_rev"
   ]
  },
  {
   "attachments": {},
   "cell_type": "markdown",
   "metadata": {},
   "source": [
    "TASK_2 - NP METHOD (ONUR)"
   ]
  },
  {
   "cell_type": "code",
   "execution_count": null,
   "metadata": {},
   "outputs": [],
   "source": [
    "df_p=pd.read_excel('../Data/p.xlsx',header=None)\n",
    "df_n=pd.read_excel('../Data/n.xlsx',header=None)\n",
    "\n",
    "np_dict=dict.fromkeys(list(df_p[0]), 1)\n",
    "np_dict.update(dict.fromkeys(list(df_n[0]), -1))\n",
    "len(np_dict)"
   ]
  },
  {
   "cell_type": "code",
   "execution_count": null,
   "metadata": {},
   "outputs": [],
   "source": [
    "df_rev['NP_sentiment_score']=pd.NA\n",
    "df_rev['NP_sentiment_category']=pd.NA"
   ]
  },
  {
   "cell_type": "code",
   "execution_count": null,
   "metadata": {},
   "outputs": [],
   "source": [
    "df_rev.head()"
   ]
  },
  {
   "cell_type": "code",
   "execution_count": null,
   "metadata": {},
   "outputs": [],
   "source": [
    "# import logging\n",
    "\n",
    "# logging.basicConfig(filename='log.txt',\n",
    "#                     filemode='a',\n",
    "#                     format='%(message)s',\n",
    "#                     level=logging.ERROR)\n",
    "def sentiment_category(s_score):\n",
    "    if s_score<0:\n",
    "        return 'Negative'\n",
    "    elif s_score>0:\n",
    "        return 'Positive'\n",
    "    else:\n",
    "        return 'Neutral'\n",
    "for i in range(len(df_rev['Translated_Review'])):\n",
    "    sentiment_score=0\n",
    "    review=df_rev['Translated_Review'][i].translate(str.maketrans('','',st.punctuation)).lower().split()\n",
    "    for z in range(len(review)):\n",
    "        try:\n",
    "            sentiment_score+=np_dict[review[z]]\n",
    "        except(KeyError):\n",
    "            # logging.error(f'{review[z]}')\n",
    "            pass\n",
    "    df_rev['NP_sentiment_score'][i]=sentiment_score\n",
    "    df_rev['NP_sentiment_category'][i]=sentiment_category(sentiment_score)\n",
    "\n",
    "df_rev.head(100)\n",
    "\n",
    "\n"
   ]
  },
  {
   "cell_type": "code",
   "execution_count": null,
   "metadata": {},
   "outputs": [],
   "source": [
    "df_rev['NP_sentiment_category'].value_counts()\n"
   ]
  },
  {
   "cell_type": "code",
   "execution_count": null,
   "metadata": {},
   "outputs": [],
   "source": [
    "df_rev['AFINN_sentiment_category'].value_counts()\n"
   ]
  }
 ],
 "metadata": {
  "kernelspec": {
   "display_name": "Python 3",
   "language": "python",
   "name": "python3"
  },
  "language_info": {
   "codemirror_mode": {
    "name": "ipython",
    "version": 3
   },
   "file_extension": ".py",
   "mimetype": "text/x-python",
   "name": "python",
   "nbconvert_exporter": "python",
   "pygments_lexer": "ipython3",
   "version": "3.11.2"
  },
  "orig_nbformat": 4
 },
 "nbformat": 4,
 "nbformat_minor": 2
}
