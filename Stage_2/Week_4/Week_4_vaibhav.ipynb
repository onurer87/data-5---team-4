{
 "cells": [
  {
   "cell_type": "code",
   "execution_count": 4,
   "id": "fb6337b2",
   "metadata": {},
   "outputs": [],
   "source": [
    "import pandas as pd\n",
    "import numpy as np\n",
    "import matplotlib.pyplot as plt"
   ]
  },
  {
   "cell_type": "markdown",
   "id": "ce843ab1",
   "metadata": {},
   "source": [
    "# Reading csv file"
   ]
  },
  {
   "cell_type": "code",
   "execution_count": 5,
   "id": "74c40e3b",
   "metadata": {
    "scrolled": true
   },
   "outputs": [
    {
     "data": {
      "text/html": [
       "<div>\n",
       "<style scoped>\n",
       "    .dataframe tbody tr th:only-of-type {\n",
       "        vertical-align: middle;\n",
       "    }\n",
       "\n",
       "    .dataframe tbody tr th {\n",
       "        vertical-align: top;\n",
       "    }\n",
       "\n",
       "    .dataframe thead th {\n",
       "        text-align: right;\n",
       "    }\n",
       "</style>\n",
       "<table border=\"1\" class=\"dataframe\">\n",
       "  <thead>\n",
       "    <tr style=\"text-align: right;\">\n",
       "      <th></th>\n",
       "      <th>App</th>\n",
       "      <th>Translated_Review</th>\n",
       "    </tr>\n",
       "  </thead>\n",
       "  <tbody>\n",
       "    <tr>\n",
       "      <th>0</th>\n",
       "      <td>10 Best Foods for You</td>\n",
       "      <td>I like eat delicious food. That's I'm cooking ...</td>\n",
       "    </tr>\n",
       "    <tr>\n",
       "      <th>1</th>\n",
       "      <td>10 Best Foods for You</td>\n",
       "      <td>This help eating healthy exercise regular basis</td>\n",
       "    </tr>\n",
       "    <tr>\n",
       "      <th>2</th>\n",
       "      <td>10 Best Foods for You</td>\n",
       "      <td>NOREVIEW</td>\n",
       "    </tr>\n",
       "    <tr>\n",
       "      <th>3</th>\n",
       "      <td>10 Best Foods for You</td>\n",
       "      <td>Works great especially going grocery store</td>\n",
       "    </tr>\n",
       "    <tr>\n",
       "      <th>4</th>\n",
       "      <td>10 Best Foods for You</td>\n",
       "      <td>Best idea us</td>\n",
       "    </tr>\n",
       "    <tr>\n",
       "      <th>...</th>\n",
       "      <td>...</td>\n",
       "      <td>...</td>\n",
       "    </tr>\n",
       "    <tr>\n",
       "      <th>41705</th>\n",
       "      <td>Housing-Real Estate &amp; Property</td>\n",
       "      <td>NOREVIEW</td>\n",
       "    </tr>\n",
       "    <tr>\n",
       "      <th>41706</th>\n",
       "      <td>Housing-Real Estate &amp; Property</td>\n",
       "      <td>NOREVIEW</td>\n",
       "    </tr>\n",
       "    <tr>\n",
       "      <th>41707</th>\n",
       "      <td>Housing-Real Estate &amp; Property</td>\n",
       "      <td>NOREVIEW</td>\n",
       "    </tr>\n",
       "    <tr>\n",
       "      <th>41708</th>\n",
       "      <td>Housing-Real Estate &amp; Property</td>\n",
       "      <td>NOREVIEW</td>\n",
       "    </tr>\n",
       "    <tr>\n",
       "      <th>41709</th>\n",
       "      <td>Housing-Real Estate &amp; Property</td>\n",
       "      <td>NOREVIEW</td>\n",
       "    </tr>\n",
       "  </tbody>\n",
       "</table>\n",
       "<p>41710 rows × 2 columns</p>\n",
       "</div>"
      ],
      "text/plain": [
       "                                  App  \\\n",
       "0               10 Best Foods for You   \n",
       "1               10 Best Foods for You   \n",
       "2               10 Best Foods for You   \n",
       "3               10 Best Foods for You   \n",
       "4               10 Best Foods for You   \n",
       "...                               ...   \n",
       "41705  Housing-Real Estate & Property   \n",
       "41706  Housing-Real Estate & Property   \n",
       "41707  Housing-Real Estate & Property   \n",
       "41708  Housing-Real Estate & Property   \n",
       "41709  Housing-Real Estate & Property   \n",
       "\n",
       "                                       Translated_Review  \n",
       "0      I like eat delicious food. That's I'm cooking ...  \n",
       "1        This help eating healthy exercise regular basis  \n",
       "2                                               NOREVIEW  \n",
       "3             Works great especially going grocery store  \n",
       "4                                           Best idea us  \n",
       "...                                                  ...  \n",
       "41705                                           NOREVIEW  \n",
       "41706                                           NOREVIEW  \n",
       "41707                                           NOREVIEW  \n",
       "41708                                           NOREVIEW  \n",
       "41709                                           NOREVIEW  \n",
       "\n",
       "[41710 rows x 2 columns]"
      ]
     },
     "execution_count": 5,
     "metadata": {},
     "output_type": "execute_result"
    }
   ],
   "source": [
    "df = pd.read_csv('clean_googleplaystore_user_reviews.csv')\n",
    "df"
   ]
  },
  {
   "cell_type": "markdown",
   "id": "2ca0c3e3",
   "metadata": {},
   "source": [
    "# Installing Afinn Module for creating sentimental score for the above data"
   ]
  },
  {
   "cell_type": "code",
   "execution_count": 6,
   "id": "4db97688",
   "metadata": {},
   "outputs": [
    {
     "name": "stdout",
     "output_type": "stream",
     "text": [
      "Requirement already satisfied: Afinn in c:\\users\\dbsom-l490-24\\anaconda\\lib\\site-packages (0.1)\n"
     ]
    },
    {
     "name": "stderr",
     "output_type": "stream",
     "text": [
      "\n",
      "[notice] A new release of pip available: 22.2.2 -> 23.0.1\n",
      "[notice] To update, run: python.exe -m pip install --upgrade pip\n"
     ]
    }
   ],
   "source": [
    "!pip install Afinn\n"
   ]
  },
  {
   "cell_type": "code",
   "execution_count": 8,
   "id": "473c60e0",
   "metadata": {},
   "outputs": [
    {
     "data": {
      "text/plain": [
       "0"
      ]
     },
     "execution_count": 8,
     "metadata": {},
     "output_type": "execute_result"
    }
   ],
   "source": [
    "df_review = pd.read_csv(\"clean_googleplaystore_user_reviews.csv\")\n",
    "df_review=df_review[['App','Translated_Review']]\n",
    "df_review['Translated_Review'].isnull().sum()"
   ]
  },
  {
   "cell_type": "code",
   "execution_count": 9,
   "id": "26e57272",
   "metadata": {},
   "outputs": [
    {
     "data": {
      "text/plain": [
       "(41710, 2)"
      ]
     },
     "execution_count": 9,
     "metadata": {},
     "output_type": "execute_result"
    }
   ],
   "source": [
    "df_review.shape"
   ]
  },
  {
   "cell_type": "code",
   "execution_count": 10,
   "id": "479efcbd",
   "metadata": {},
   "outputs": [
    {
     "data": {
      "text/plain": [
       "dtype('O')"
      ]
     },
     "execution_count": 10,
     "metadata": {},
     "output_type": "execute_result"
    }
   ],
   "source": [
    "df_review.Translated_Review.dtype"
   ]
  },
  {
   "cell_type": "code",
   "execution_count": 11,
   "id": "281267a5",
   "metadata": {},
   "outputs": [],
   "source": [
    "from afinn import Afinn\n",
    "af = Afinn()\n",
    "\n",
    "# Compute sentiment scores and categories\n",
    "sentiment_scores = [af.score(str(text)) for text in df_review.Translated_Review]\n",
    "sentiment_category = ['positive' if score > 0 else 'negative' if score < 0 else 'neutral' for score in sentiment_scores]\n",
    "df = pd.DataFrame([sentiment_scores, sentiment_category]).T # .T: swap rows and cols\n",
    "df.columns = ['sentiment_score', 'sentiment_category']\n",
    "\n"
   ]
  },
  {
   "cell_type": "code",
   "execution_count": 12,
   "id": "12c24776",
   "metadata": {},
   "outputs": [
    {
     "data": {
      "text/html": [
       "<div>\n",
       "<style scoped>\n",
       "    .dataframe tbody tr th:only-of-type {\n",
       "        vertical-align: middle;\n",
       "    }\n",
       "\n",
       "    .dataframe tbody tr th {\n",
       "        vertical-align: top;\n",
       "    }\n",
       "\n",
       "    .dataframe thead th {\n",
       "        text-align: right;\n",
       "    }\n",
       "</style>\n",
       "<table border=\"1\" class=\"dataframe\">\n",
       "  <thead>\n",
       "    <tr style=\"text-align: right;\">\n",
       "      <th></th>\n",
       "      <th>App</th>\n",
       "      <th>Translated_Review</th>\n",
       "      <th>sentiment_score</th>\n",
       "      <th>sentiment_category</th>\n",
       "    </tr>\n",
       "  </thead>\n",
       "  <tbody>\n",
       "    <tr>\n",
       "      <th>0</th>\n",
       "      <td>10 Best Foods for You</td>\n",
       "      <td>I like eat delicious food. That's I'm cooking ...</td>\n",
       "      <td>13.0</td>\n",
       "      <td>positive</td>\n",
       "    </tr>\n",
       "    <tr>\n",
       "      <th>1</th>\n",
       "      <td>10 Best Foods for You</td>\n",
       "      <td>This help eating healthy exercise regular basis</td>\n",
       "      <td>4.0</td>\n",
       "      <td>positive</td>\n",
       "    </tr>\n",
       "    <tr>\n",
       "      <th>2</th>\n",
       "      <td>10 Best Foods for You</td>\n",
       "      <td>NOREVIEW</td>\n",
       "      <td>0.0</td>\n",
       "      <td>neutral</td>\n",
       "    </tr>\n",
       "    <tr>\n",
       "      <th>3</th>\n",
       "      <td>10 Best Foods for You</td>\n",
       "      <td>Works great especially going grocery store</td>\n",
       "      <td>3.0</td>\n",
       "      <td>positive</td>\n",
       "    </tr>\n",
       "    <tr>\n",
       "      <th>4</th>\n",
       "      <td>10 Best Foods for You</td>\n",
       "      <td>Best idea us</td>\n",
       "      <td>3.0</td>\n",
       "      <td>positive</td>\n",
       "    </tr>\n",
       "    <tr>\n",
       "      <th>...</th>\n",
       "      <td>...</td>\n",
       "      <td>...</td>\n",
       "      <td>...</td>\n",
       "      <td>...</td>\n",
       "    </tr>\n",
       "    <tr>\n",
       "      <th>41705</th>\n",
       "      <td>Housing-Real Estate &amp; Property</td>\n",
       "      <td>NOREVIEW</td>\n",
       "      <td>0.0</td>\n",
       "      <td>neutral</td>\n",
       "    </tr>\n",
       "    <tr>\n",
       "      <th>41706</th>\n",
       "      <td>Housing-Real Estate &amp; Property</td>\n",
       "      <td>NOREVIEW</td>\n",
       "      <td>0.0</td>\n",
       "      <td>neutral</td>\n",
       "    </tr>\n",
       "    <tr>\n",
       "      <th>41707</th>\n",
       "      <td>Housing-Real Estate &amp; Property</td>\n",
       "      <td>NOREVIEW</td>\n",
       "      <td>0.0</td>\n",
       "      <td>neutral</td>\n",
       "    </tr>\n",
       "    <tr>\n",
       "      <th>41708</th>\n",
       "      <td>Housing-Real Estate &amp; Property</td>\n",
       "      <td>NOREVIEW</td>\n",
       "      <td>0.0</td>\n",
       "      <td>neutral</td>\n",
       "    </tr>\n",
       "    <tr>\n",
       "      <th>41709</th>\n",
       "      <td>Housing-Real Estate &amp; Property</td>\n",
       "      <td>NOREVIEW</td>\n",
       "      <td>0.0</td>\n",
       "      <td>neutral</td>\n",
       "    </tr>\n",
       "  </tbody>\n",
       "</table>\n",
       "<p>41710 rows × 4 columns</p>\n",
       "</div>"
      ],
      "text/plain": [
       "                                  App  \\\n",
       "0               10 Best Foods for You   \n",
       "1               10 Best Foods for You   \n",
       "2               10 Best Foods for You   \n",
       "3               10 Best Foods for You   \n",
       "4               10 Best Foods for You   \n",
       "...                               ...   \n",
       "41705  Housing-Real Estate & Property   \n",
       "41706  Housing-Real Estate & Property   \n",
       "41707  Housing-Real Estate & Property   \n",
       "41708  Housing-Real Estate & Property   \n",
       "41709  Housing-Real Estate & Property   \n",
       "\n",
       "                                       Translated_Review sentiment_score  \\\n",
       "0      I like eat delicious food. That's I'm cooking ...            13.0   \n",
       "1        This help eating healthy exercise regular basis             4.0   \n",
       "2                                               NOREVIEW             0.0   \n",
       "3             Works great especially going grocery store             3.0   \n",
       "4                                           Best idea us             3.0   \n",
       "...                                                  ...             ...   \n",
       "41705                                           NOREVIEW             0.0   \n",
       "41706                                           NOREVIEW             0.0   \n",
       "41707                                           NOREVIEW             0.0   \n",
       "41708                                           NOREVIEW             0.0   \n",
       "41709                                           NOREVIEW             0.0   \n",
       "\n",
       "      sentiment_category  \n",
       "0               positive  \n",
       "1               positive  \n",
       "2                neutral  \n",
       "3               positive  \n",
       "4               positive  \n",
       "...                  ...  \n",
       "41705            neutral  \n",
       "41706            neutral  \n",
       "41707            neutral  \n",
       "41708            neutral  \n",
       "41709            neutral  \n",
       "\n",
       "[41710 rows x 4 columns]"
      ]
     },
     "execution_count": 12,
     "metadata": {},
     "output_type": "execute_result"
    }
   ],
   "source": [
    "df_review  = pd.concat([df_review, df], axis=1)\n",
    "df_review"
   ]
  },
  {
   "cell_type": "code",
   "execution_count": null,
   "id": "969f8252",
   "metadata": {},
   "outputs": [],
   "source": []
  },
  {
   "cell_type": "code",
   "execution_count": null,
   "id": "cc959f48",
   "metadata": {},
   "outputs": [],
   "source": [
    "\n"
   ]
  },
  {
   "cell_type": "code",
   "execution_count": null,
   "id": "d4f2b256",
   "metadata": {},
   "outputs": [],
   "source": []
  }
 ],
 "metadata": {
  "kernelspec": {
   "display_name": "Python 3 (ipykernel)",
   "language": "python",
   "name": "python3"
  },
  "language_info": {
   "codemirror_mode": {
    "name": "ipython",
    "version": 3
   },
   "file_extension": ".py",
   "mimetype": "text/x-python",
   "name": "python",
   "nbconvert_exporter": "python",
   "pygments_lexer": "ipython3",
   "version": "3.9.13"
  }
 },
 "nbformat": 4,
 "nbformat_minor": 5
}
