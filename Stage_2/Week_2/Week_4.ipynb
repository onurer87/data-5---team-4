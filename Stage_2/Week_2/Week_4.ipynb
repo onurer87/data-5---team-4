{
 "cells": [
  {
   "cell_type": "code",
   "execution_count": null,
   "metadata": {},
   "outputs": [],
   "source": [
    "import pandas as pd\n",
    "import numpy as np\n",
    "# import matplotlib.pylab as plt\n",
    "# import seaborn as sns\n",
    "# plt.style.use('ggplot')\n",
    "pd.set_option('display.max_columns', 50)\n",
    "pd.set_option('display.max_rows',800)"
   ]
  },
  {
   "attachments": {},
   "cell_type": "markdown",
   "metadata": {},
   "source": [
    "TASK_2 - NP METHOD (ONUR)"
   ]
  },
  {
   "cell_type": "code",
   "execution_count": null,
   "metadata": {},
   "outputs": [],
   "source": [
    "df_p=pd.read_excel('../Data/p.xlsx',header=None)\n",
    "df_n=pd.read_excel('../Data/n.xlsx',header=None)\n",
    "\n",
    "df_rev=pd.read_csv('../Data/clean_googleplaystore_user_reviews.csv')\n",
    "# df_rev.drop(['Unnamed: 0',\"Sentiment\",\"Sentiment_Polarity\",\"Sentiment_Subjectivity\"], inplace=True, axis=1)\n",
    "p_words=list(df_p[0])\n",
    "n_words=list(df_n[0])\n",
    "np_dict=dict.fromkeys(p_words, 1)\n",
    "np_dict.update(dict.fromkeys(n_words, -1))\n",
    "len(np_dict)"
   ]
  },
  {
   "cell_type": "code",
   "execution_count": null,
   "metadata": {},
   "outputs": [],
   "source": [
    "df_rev.info()"
   ]
  }
 ],
 "metadata": {
  "kernelspec": {
   "display_name": "Python 3",
   "language": "python",
   "name": "python3"
  },
  "language_info": {
   "codemirror_mode": {
    "name": "ipython",
    "version": 3
   },
   "file_extension": ".py",
   "mimetype": "text/x-python",
   "name": "python",
   "nbconvert_exporter": "python",
   "pygments_lexer": "ipython3",
   "version": "3.11.2"
  },
  "orig_nbformat": 4
 },
 "nbformat": 4,
 "nbformat_minor": 2
}
