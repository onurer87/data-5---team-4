{
 "cells": [
  {
   "cell_type": "code",
   "execution_count": 7,
   "metadata": {},
   "outputs": [],
   "source": [
    "import pandas as pd\n",
    "import numpy as np\n",
    "import matplotlib.pylab as plt\n",
    "import seaborn as sns\n",
    "plt.style.use('ggplot')\n",
    "pd.set_option('display.max_columns', 50)\n",
    "pd.set_option('display.max_rows',800)\n",
    "\n",
    "df=pd.read_csv('..\\Data\\cleaned_googleplaystore.csv')"
   ]
  },
  {
   "attachments": {},
   "cell_type": "markdown",
   "metadata": {},
   "source": [
    "List the top 5 apps with smallest size and highest number of downloads/installs(Barnabas)"
   ]
  },
  {
   "attachments": {},
   "cell_type": "markdown",
   "metadata": {},
   "source": [
    "Highest installed apps among top 5 smallest size apps"
   ]
  },
  {
   "cell_type": "code",
   "execution_count": null,
   "metadata": {},
   "outputs": [],
   "source": [
    "df[df['Size']!=-99.99][['Category','App','Size','Installs']].sort_values('Size').head(5).sort_values('Installs', ascending=False)"
   ]
  },
  {
   "attachments": {},
   "cell_type": "markdown",
   "metadata": {},
   "source": [
    "Smallest size apps among Top 5 highest installed apps"
   ]
  },
  {
   "cell_type": "code",
   "execution_count": null,
   "metadata": {},
   "outputs": [],
   "source": [
    "df[df['Size']!=-99.99][['Category','App','Size','Installs']].sort_values('Installs',ascending=False).head(5).sort_values('Size')"
   ]
  },
  {
   "attachments": {},
   "cell_type": "markdown",
   "metadata": {},
   "source": [
    "List the top 5 app in each category Free and Paid separately (Vaibhav)"
   ]
  },
  {
   "cell_type": "code",
   "execution_count": 8,
   "metadata": {},
   "outputs": [
    {
     "data": {
      "text/html": [
       "<div>\n",
       "<style scoped>\n",
       "    .dataframe tbody tr th:only-of-type {\n",
       "        vertical-align: middle;\n",
       "    }\n",
       "\n",
       "    .dataframe tbody tr th {\n",
       "        vertical-align: top;\n",
       "    }\n",
       "\n",
       "    .dataframe thead th {\n",
       "        text-align: right;\n",
       "    }\n",
       "</style>\n",
       "<table border=\"1\" class=\"dataframe\">\n",
       "  <thead>\n",
       "    <tr style=\"text-align: right;\">\n",
       "      <th></th>\n",
       "      <th>Category</th>\n",
       "      <th>Type</th>\n",
       "      <th>App</th>\n",
       "      <th>Installs</th>\n",
       "    </tr>\n",
       "  </thead>\n",
       "  <tbody>\n",
       "    <tr>\n",
       "      <th>0</th>\n",
       "      <td>ART_AND_DESIGN</td>\n",
       "      <td>Free</td>\n",
       "      <td>Sketch - Draw &amp; Paint</td>\n",
       "      <td>50000000</td>\n",
       "    </tr>\n",
       "    <tr>\n",
       "      <th>1</th>\n",
       "      <td>ART_AND_DESIGN</td>\n",
       "      <td>Free</td>\n",
       "      <td>Tattoo Name On My Photo Editor</td>\n",
       "      <td>10000000</td>\n",
       "    </tr>\n",
       "    <tr>\n",
       "      <th>2</th>\n",
       "      <td>ART_AND_DESIGN</td>\n",
       "      <td>Free</td>\n",
       "      <td>ibis Paint X</td>\n",
       "      <td>10000000</td>\n",
       "    </tr>\n",
       "    <tr>\n",
       "      <th>3</th>\n",
       "      <td>ART_AND_DESIGN</td>\n",
       "      <td>Free</td>\n",
       "      <td>Canva: Poster, banner, card maker &amp; graphic de...</td>\n",
       "      <td>10000000</td>\n",
       "    </tr>\n",
       "    <tr>\n",
       "      <th>4</th>\n",
       "      <td>ART_AND_DESIGN</td>\n",
       "      <td>Free</td>\n",
       "      <td>Textgram - write on photos</td>\n",
       "      <td>10000000</td>\n",
       "    </tr>\n",
       "  </tbody>\n",
       "</table>\n",
       "</div>"
      ],
      "text/plain": [
       "         Category  Type                                                App  \\\n",
       "0  ART_AND_DESIGN  Free                              Sketch - Draw & Paint   \n",
       "1  ART_AND_DESIGN  Free                     Tattoo Name On My Photo Editor   \n",
       "2  ART_AND_DESIGN  Free                                       ibis Paint X   \n",
       "3  ART_AND_DESIGN  Free  Canva: Poster, banner, card maker & graphic de...   \n",
       "4  ART_AND_DESIGN  Free                         Textgram - write on photos   \n",
       "\n",
       "   Installs  \n",
       "0  50000000  \n",
       "1  10000000  \n",
       "2  10000000  \n",
       "3  10000000  \n",
       "4  10000000  "
      ]
     },
     "execution_count": 8,
     "metadata": {},
     "output_type": "execute_result"
    }
   ],
   "source": [
    "df_deneme=df[['Category','Type','App','Installs']].sort_values(['Category','Type','Installs'], ascending=[True,True,False])\n",
    "\n",
    "df_top_apps=df_deneme.groupby(['Category','Type']).head(5)\n",
    "\n",
    "df_top_apps.reset_index(inplace=True,drop=True)\n",
    "\n",
    "df_top_apps.head(5)"
   ]
  },
  {
   "cell_type": "code",
   "execution_count": 9,
   "metadata": {},
   "outputs": [
    {
     "data": {
      "text/html": [
       "<div>\n",
       "<style scoped>\n",
       "    .dataframe tbody tr th:only-of-type {\n",
       "        vertical-align: middle;\n",
       "    }\n",
       "\n",
       "    .dataframe tbody tr th {\n",
       "        vertical-align: top;\n",
       "    }\n",
       "\n",
       "    .dataframe thead th {\n",
       "        text-align: right;\n",
       "    }\n",
       "</style>\n",
       "<table border=\"1\" class=\"dataframe\">\n",
       "  <thead>\n",
       "    <tr style=\"text-align: right;\">\n",
       "      <th></th>\n",
       "      <th>Category</th>\n",
       "      <th>Type_x</th>\n",
       "      <th>App_x</th>\n",
       "      <th>Installs_x</th>\n",
       "      <th>Type_y</th>\n",
       "      <th>App_y</th>\n",
       "      <th>Installs_y</th>\n",
       "    </tr>\n",
       "  </thead>\n",
       "  <tbody>\n",
       "    <tr>\n",
       "      <th>0</th>\n",
       "      <td>ART_AND_DESIGN</td>\n",
       "      <td>Free</td>\n",
       "      <td>Sketch - Draw &amp; Paint</td>\n",
       "      <td>50000000</td>\n",
       "      <td>Paid</td>\n",
       "      <td>X Launcher Pro - IOS Style Theme &amp; Control Center</td>\n",
       "      <td>10000</td>\n",
       "    </tr>\n",
       "    <tr>\n",
       "      <th>1</th>\n",
       "      <td>ART_AND_DESIGN</td>\n",
       "      <td>Free</td>\n",
       "      <td>Sketch - Draw &amp; Paint</td>\n",
       "      <td>50000000</td>\n",
       "      <td>Paid</td>\n",
       "      <td>X Launcher Pro: PhoneX Theme, OS11 Control Center</td>\n",
       "      <td>5000</td>\n",
       "    </tr>\n",
       "    <tr>\n",
       "      <th>2</th>\n",
       "      <td>ART_AND_DESIGN</td>\n",
       "      <td>Free</td>\n",
       "      <td>Sketch - Draw &amp; Paint</td>\n",
       "      <td>50000000</td>\n",
       "      <td>Paid</td>\n",
       "      <td>X Launcher Prime: With OS Style Theme &amp; No Ads</td>\n",
       "      <td>1000</td>\n",
       "    </tr>\n",
       "    <tr>\n",
       "      <th>3</th>\n",
       "      <td>ART_AND_DESIGN</td>\n",
       "      <td>Free</td>\n",
       "      <td>Tattoo Name On My Photo Editor</td>\n",
       "      <td>10000000</td>\n",
       "      <td>Paid</td>\n",
       "      <td>X Launcher Pro - IOS Style Theme &amp; Control Center</td>\n",
       "      <td>10000</td>\n",
       "    </tr>\n",
       "    <tr>\n",
       "      <th>4</th>\n",
       "      <td>ART_AND_DESIGN</td>\n",
       "      <td>Free</td>\n",
       "      <td>Tattoo Name On My Photo Editor</td>\n",
       "      <td>10000000</td>\n",
       "      <td>Paid</td>\n",
       "      <td>X Launcher Pro: PhoneX Theme, OS11 Control Center</td>\n",
       "      <td>5000</td>\n",
       "    </tr>\n",
       "  </tbody>\n",
       "</table>\n",
       "</div>"
      ],
      "text/plain": [
       "         Category Type_x                           App_x  Installs_x Type_y  \\\n",
       "0  ART_AND_DESIGN   Free           Sketch - Draw & Paint    50000000   Paid   \n",
       "1  ART_AND_DESIGN   Free           Sketch - Draw & Paint    50000000   Paid   \n",
       "2  ART_AND_DESIGN   Free           Sketch - Draw & Paint    50000000   Paid   \n",
       "3  ART_AND_DESIGN   Free  Tattoo Name On My Photo Editor    10000000   Paid   \n",
       "4  ART_AND_DESIGN   Free  Tattoo Name On My Photo Editor    10000000   Paid   \n",
       "\n",
       "                                               App_y  Installs_y  \n",
       "0  X Launcher Pro - IOS Style Theme & Control Center       10000  \n",
       "1  X Launcher Pro: PhoneX Theme, OS11 Control Center        5000  \n",
       "2     X Launcher Prime: With OS Style Theme & No Ads        1000  \n",
       "3  X Launcher Pro - IOS Style Theme & Control Center       10000  \n",
       "4  X Launcher Pro: PhoneX Theme, OS11 Control Center        5000  "
      ]
     },
     "execution_count": 9,
     "metadata": {},
     "output_type": "execute_result"
    }
   ],
   "source": [
    "df_merged= df_top_apps.query('Type==\"Free\"').merge(df_top_apps.query('Type==\"Paid\"'),on='Category')\n",
    "\n",
    "# df_merged.drop_duplicates(['App_x','App_y'],inplace=True)\n",
    "df_merged.head(5)"
   ]
  },
  {
   "cell_type": "code",
   "execution_count": null,
   "metadata": {},
   "outputs": [],
   "source": [
    "df_top_apps[['Type','App','Installs']].query('Type==\"Paid\"').values"
   ]
  },
  {
   "cell_type": "code",
   "execution_count": 32,
   "metadata": {},
   "outputs": [
    {
     "data": {
      "image/png": "[encoded data removed]",
      "text/plain": [
       "<Figure size 500x500 with 1 Axes>"
      ]
     },
     "metadata": {},
     "output_type": "display_data"
    }
   ],
   "source": [
    "fig,ax=plt.subplots(figsize=(5,5))\n",
    "fig.patch.set_visible(False)\n",
    "ax.axis('off')\n",
    "ax.axis('tight')\n",
    "ax.table(cellText=df_merged[:10].values, colLabels=['Category Name','Type','App','# of Installs','Type','App','# of Installs'], loc='center',\n",
    "                colWidths=[0.25]*len(df_merged.columns),fontsize=100,cellLoc='center')\n",
    "fig.tight_layout()\n",
    "# colWidths=[0.25]*len(df_merged.columns),\n",
    "# plt.axis('tight')\n",
    "\n",
    "# table.set_fontsize(30)\n",
    "\n",
    "# plt.axis('off')\n",
    "plt.show()"
   ]
  }
 ],
 "metadata": {
  "kernelspec": {
   "display_name": "Python 3",
   "language": "python",
   "name": "python3"
  },
  "language_info": {
   "codemirror_mode": {
    "name": "ipython",
    "version": 3
   },
   "file_extension": ".py",
   "mimetype": "text/x-python",
   "name": "python",
   "nbconvert_exporter": "python",
   "pygments_lexer": "ipython3",
   "version": "3.11.2"
  },
  "orig_nbformat": 4
 },
 "nbformat": 4,
 "nbformat_minor": 2
}
