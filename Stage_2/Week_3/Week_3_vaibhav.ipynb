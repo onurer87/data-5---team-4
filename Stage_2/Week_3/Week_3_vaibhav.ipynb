{
 "cells": [
  {
   "cell_type": "code",
   "execution_count": 8,
   "id": "fb6337b2",
   "metadata": {},
   "outputs": [],
   "source": [
    "import pandas as pd\n",
    "import numpy as np\n",
    "import matplotlib.pyplot as plt"
   ]
  },
  {
   "cell_type": "markdown",
   "id": "ce843ab1",
   "metadata": {},
   "source": [
    "# Reading csv file"
   ]
  },
  {
   "cell_type": "code",
   "execution_count": null,
   "id": "74c40e3b",
   "metadata": {
    "scrolled": true
   },
   "outputs": [],
   "source": [
    "df = pd.read_csv(\"C:/Users/DBSOM-L490-24/Documents/DEVELHOPE/PYTHON/data-5---team-4/Stage_2/Data/cleaned_googleplaystore.csv\")\n",
    "df"
   ]
  },
  {
   "cell_type": "markdown",
   "id": "5c2a0608",
   "metadata": {},
   "source": [
    "# TASK_1 : List the top 5 apps with smallest size and highest number of downloads/installs(Barnabas)"
   ]
  },
  {
   "cell_type": "markdown",
   "id": "b2edee54",
   "metadata": {},
   "source": [
    "# Next cell shows data having -99.99 size "
   ]
  },
  {
   "cell_type": "code",
   "execution_count": null,
   "id": "616fbf94",
   "metadata": {},
   "outputs": [],
   "source": [
    "Smallest_apps_without_dropped_value = df.groupby(['App','Size','Installs'],as_index=False).first().sort_values(by=['Size','Installs'],ascending=[True,False])\n",
    "Smallest_apps_without_dropped_value\n"
   ]
  },
  {
   "cell_type": "markdown",
   "id": "c0c832b4",
   "metadata": {},
   "source": [
    "# Top 5 apps by considering -99.99 size "
   ]
  },
  {
   "cell_type": "code",
   "execution_count": null,
   "id": "78a199bf",
   "metadata": {},
   "outputs": [],
   "source": [
    "Smallest_apps_without_dropped_value=Smallest_apps_without_dropped_value[['App','Size','Installs']]\n",
    "Smallest_apps_without_dropped_value.head(5)"
   ]
  },
  {
   "cell_type": "markdown",
   "id": "0083328e",
   "metadata": {},
   "source": [
    "# Below Data after dropping -99.99 size"
   ]
  },
  {
   "cell_type": "code",
   "execution_count": null,
   "id": "46f37f79",
   "metadata": {
    "scrolled": true
   },
   "outputs": [],
   "source": [
    "Smallest_apps = df.groupby(['App','Size','Installs'],as_index=False).first().sort_values(by=['Size','Installs'],ascending=[True,False])\n",
    "Smallest_apps=Smallest_apps[Smallest_apps['Size'] != -99.99]\n",
    "Smallest_apps.sort_values(by=['Size','Installs'],ascending = [True,False])"
   ]
  },
  {
   "cell_type": "markdown",
   "id": "81813560",
   "metadata": {},
   "source": [
    "# Fetching small size with \n",
    "## Dropping -99.99 value for least size and also -99.9 can also transformed to mean or with respect higher or lower withrespect to -99.9 cell."
   ]
  },
  {
   "cell_type": "code",
   "execution_count": null,
   "id": "32c86b29",
   "metadata": {},
   "outputs": [],
   "source": [
    "five_Smallest_apps_with_dropped_value = Smallest_apps[['App','Size','Installs','Type','Price','Rating']]\n",
    "five_Smallest_apps_with_dropped_value.head(5).reset_index(drop=True)"
   ]
  },
  {
   "cell_type": "markdown",
   "id": "413e4706",
   "metadata": {},
   "source": [
    "# Task_2  : Finding top installed apps with respect to each category"
   ]
  },
  {
   "cell_type": "code",
   "execution_count": null,
   "id": "2aaaede0",
   "metadata": {},
   "outputs": [],
   "source": [
    "# Showing the dataframe\n",
    "df"
   ]
  },
  {
   "cell_type": "markdown",
   "id": "3a0d4c57",
   "metadata": {},
   "source": [
    "# Fetching grouped data with respect to category data "
   ]
  },
  {
   "cell_type": "code",
   "execution_count": null,
   "id": "cf51768d",
   "metadata": {},
   "outputs": [],
   "source": [
    "df_top_app = df.groupby(['Category','App','Installs']).first().sort_values(by = ['Category','Installs'],ascending = False)\\\n",
    ".reset_index()\n",
    "df_top_app"
   ]
  },
  {
   "cell_type": "markdown",
   "id": "72ab9be5",
   "metadata": {},
   "source": [
    "# Filtering Top 10 Apps in each Category"
   ]
  },
  {
   "cell_type": "code",
   "execution_count": 17,
   "id": "3e79e55b",
   "metadata": {},
   "outputs": [],
   "source": [
    "df_Filtered_ten=df_top_app.groupby('Category').head(10)"
   ]
  },
  {
   "cell_type": "code",
   "execution_count": null,
   "id": "bafad33c",
   "metadata": {
    "scrolled": true
   },
   "outputs": [],
   "source": [
    "df_Filtered_ten"
   ]
  },
  {
   "cell_type": "markdown",
   "id": "7e039d5f",
   "metadata": {},
   "source": [
    "# Total installs by considering top 10 apps from each category"
   ]
  },
  {
   "cell_type": "code",
   "execution_count": null,
   "id": "d450b239",
   "metadata": {
    "scrolled": true
   },
   "outputs": [],
   "source": [
    "df_10_installs = df_Filtered_ten.groupby('Category',as_index = False).Installs.sum().sort_values(by='Installs',ascending = False)\n",
    "df_10_installs.reset_index(drop=True)"
   ]
  },
  {
   "cell_type": "markdown",
   "id": "ea3a5f10",
   "metadata": {},
   "source": [
    "# There are no paid apps in the first top installed apps from each category"
   ]
  },
  {
   "cell_type": "code",
   "execution_count": null,
   "id": "5d7cde2e",
   "metadata": {},
   "outputs": [],
   "source": [
    "df_Filtered_ten['Type'].unique()"
   ]
  }
 ],
 "metadata": {
  "kernelspec": {
   "display_name": "Python 3 (ipykernel)",
   "language": "python",
   "name": "python3"
  },
  "language_info": {
   "codemirror_mode": {
    "name": "ipython",
    "version": 3
   },
   "file_extension": ".py",
   "mimetype": "text/x-python",
   "name": "python",
   "nbconvert_exporter": "python",
   "pygments_lexer": "ipython3",
   "version": "3.11.2"
  }
 },
 "nbformat": 4,
 "nbformat_minor": 5
}
